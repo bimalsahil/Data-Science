{
 "cells": [
  {
   "cell_type": "markdown",
   "id": "aaeeac02-f0c4-4ee0-9d05-65814f33ee26",
   "metadata": {},
   "source": [
    "Q1. Explain Class and Object with respect to Object-Oriented Programming. Give a suitable example"
   ]
  },
  {
   "cell_type": "markdown",
   "id": "ee212564-16e1-48e4-baac-4adad2788111",
   "metadata": {},
   "source": [
    "In object-oriented programming (OOP), a class is a blueprint or a template that defines the characteristics and behaviors of objects of that class. It defines the attributes and methods that the objects of the class will have.\n",
    "\n",
    "An object, on the other hand, is an instance of a class. It is created based on the class definition and represents a specific entity or concept in the program."
   ]
  },
  {
   "cell_type": "code",
   "execution_count": 10,
   "id": "f3e1fd28-fedc-41df-b533-1de04a99705e",
   "metadata": {},
   "outputs": [],
   "source": [
    "class Car:\n",
    "    def __init__(self, make, model, year):\n",
    "        self.make = make\n",
    "        self.model = model\n",
    "        self.year = year\n",
    "\n",
    "    def start_engine(self):\n",
    "        print(\"Engine started.\")\n",
    "\n",
    "    def stop_engine(self):\n",
    "        print(\"Engine stopped.\")\n",
    "\n",
    "# Creating instances of the Car class (objects)\n",
    "car1 = Car(\"Toyota\", \"Camry\", 2021)\n",
    "car2 = Car(\"Honda\", \"Civic\", 2022)"
   ]
  },
  {
   "cell_type": "code",
   "execution_count": 11,
   "id": "82b05331-0f29-49c9-806e-8991400ea622",
   "metadata": {},
   "outputs": [
    {
     "data": {
      "text/plain": [
       "2021"
      ]
     },
     "execution_count": 11,
     "metadata": {},
     "output_type": "execute_result"
    }
   ],
   "source": [
    "car1.year"
   ]
  },
  {
   "cell_type": "code",
   "execution_count": 13,
   "id": "5021be26-af99-4882-b4b2-4c785f741654",
   "metadata": {},
   "outputs": [
    {
     "data": {
      "text/plain": [
       "'Civic'"
      ]
     },
     "execution_count": 13,
     "metadata": {},
     "output_type": "execute_result"
    }
   ],
   "source": [
    "car2.model"
   ]
  },
  {
   "cell_type": "markdown",
   "id": "a01b5516-543a-4fe8-a1d3-825d282d0a9b",
   "metadata": {},
   "source": [
    "Q2. Name the four pillars of OOPs."
   ]
  },
  {
   "cell_type": "markdown",
   "id": "6a5e9db5-f555-448d-be98-8369b8398e5d",
   "metadata": {},
   "source": [
    "The four pillars of object-oriented programming (OOP) are:\n",
    "\n",
    "Encapsulation: It allows the data to be hidden from direct access and provides methods to interact with and modify the data.\n",
    "\n",
    "Inheritance: Inheritance allows a class to inherit the characteristics (attributes and methods) of another class, called the parent or base class.\n",
    "\n",
    "Polymorphism: Polymorphism refers to the ability of an object to take on different forms or exhibit different behaviors depending on the context.\n",
    "\n",
    "Abstraction: Abstraction is the process of representing essential features and behavior of real-world entities in a simplified manner."
   ]
  },
  {
   "cell_type": "markdown",
   "id": "748f5158-4f91-429f-8a51-cfd8e78363f7",
   "metadata": {},
   "source": [
    "Q3. Explain why the __init__() function is used. Give a suitable example."
   ]
  },
  {
   "cell_type": "markdown",
   "id": "c8d10549-dcbc-43d9-9968-7378fda6e348",
   "metadata": {},
   "source": [
    "The __init__() function is a special method in Python classes that is automatically called when an object of the class is created."
   ]
  },
  {
   "cell_type": "code",
   "execution_count": 23,
   "id": "27bb2c02-7a8e-4596-bc65-3413a0806ffd",
   "metadata": {},
   "outputs": [],
   "source": [
    "class Person:\n",
    "    def __init__(self, name, age):\n",
    "        self.name = name\n",
    "        self.age = age\n",
    "\n",
    "    def introduce(self):\n",
    "        print(f\"Hi, my name is {self.name} and I am {self.age} years old.\")\n",
    "\n",
    "person = Person(\"Sahil\", 25)"
   ]
  },
  {
   "cell_type": "code",
   "execution_count": 24,
   "id": "ddfc3123-e8d1-40e0-ad12-ecdfb42ba840",
   "metadata": {},
   "outputs": [
    {
     "data": {
      "text/plain": [
       "'Sahil'"
      ]
     },
     "execution_count": 24,
     "metadata": {},
     "output_type": "execute_result"
    }
   ],
   "source": [
    "person.name"
   ]
  },
  {
   "cell_type": "code",
   "execution_count": 25,
   "id": "e241f54d-c22a-4218-9b4c-32dd3f206098",
   "metadata": {},
   "outputs": [
    {
     "data": {
      "text/plain": [
       "25"
      ]
     },
     "execution_count": 25,
     "metadata": {},
     "output_type": "execute_result"
    }
   ],
   "source": [
    "person.age"
   ]
  },
  {
   "cell_type": "code",
   "execution_count": 26,
   "id": "75e7c8f0-48a8-43e2-9b48-1917784d6096",
   "metadata": {},
   "outputs": [
    {
     "name": "stdout",
     "output_type": "stream",
     "text": [
      "Hi, my name is Sahil and I am 25 years old.\n"
     ]
    }
   ],
   "source": [
    "person.introduce()"
   ]
  },
  {
   "cell_type": "markdown",
   "id": "8e210938-96fc-46d3-aa74-080d0197557b",
   "metadata": {},
   "source": [
    "Q4. Why self is used in OOPs?"
   ]
  },
  {
   "cell_type": "markdown",
   "id": "aa7ea518-c2b3-4ac9-907a-ca90aef4a134",
   "metadata": {},
   "source": [
    "In object-oriented programming (OOP), self is a convention used to refer to the instance of a class within the class itself. It acts as a reference to the object or instance that the method or attribute belongs to. When defining methods in a class, the first parameter of the method is typically self."
   ]
  },
  {
   "cell_type": "code",
   "execution_count": 32,
   "id": "9c1d5767-9777-490c-bb97-f398a9f33080",
   "metadata": {},
   "outputs": [],
   "source": [
    "class human:\n",
    "    def __init__(self,name,email):\n",
    "        self.name = name\n",
    "        self.email = email\n",
    "    \n",
    "    def introduce(self):\n",
    "        print(f\"Hi, My name is {self.name} and my email is {self.email}\")\n",
    "        \n",
    "name = human('Sahil',\"sahil@gmail.com\")"
   ]
  },
  {
   "cell_type": "code",
   "execution_count": 33,
   "id": "d30c8f5f-82c3-4eed-aef0-8499a0238d35",
   "metadata": {},
   "outputs": [
    {
     "data": {
      "text/plain": [
       "'Sahil'"
      ]
     },
     "execution_count": 33,
     "metadata": {},
     "output_type": "execute_result"
    }
   ],
   "source": [
    "name.name"
   ]
  },
  {
   "cell_type": "code",
   "execution_count": 34,
   "id": "fb901011-6bbf-471f-8f86-0f004d9daaaa",
   "metadata": {},
   "outputs": [
    {
     "data": {
      "text/plain": [
       "'sahil@gmail.com'"
      ]
     },
     "execution_count": 34,
     "metadata": {},
     "output_type": "execute_result"
    }
   ],
   "source": [
    "name.email"
   ]
  },
  {
   "cell_type": "code",
   "execution_count": 35,
   "id": "a7253f8e-d877-440d-b7b7-d3dcac2a3c3b",
   "metadata": {},
   "outputs": [
    {
     "name": "stdout",
     "output_type": "stream",
     "text": [
      "Hi, My name is Sahil and my email is sahil@gmail.com\n"
     ]
    }
   ],
   "source": [
    "name.introduce()"
   ]
  },
  {
   "cell_type": "markdown",
   "id": "b079190f-ecad-4506-8f84-23396ad5a1c7",
   "metadata": {},
   "source": [
    "Q5. What is inheritance? Give an example for each type of inheritance."
   ]
  },
  {
   "cell_type": "markdown",
   "id": "cffdaa23-60f2-4389-b661-a124e019b0a7",
   "metadata": {},
   "source": [
    "Inheritance is a fundamental concept in object-oriented programming (OOP) that allows a class to inherit attributes and methods from another class. The class that inherits is called the derived class, subclass, or child class, while the class being inherited from is called the base class, superclass, or parent class"
   ]
  },
  {
   "cell_type": "markdown",
   "id": "0bbbaa92-72f4-4359-b4d4-f401eee8fdac",
   "metadata": {},
   "source": [
    "Single Inheritance: Single inheritance refers to a subclass inheriting from a single base class. It represents a one-to-one parent-child relationship between classes."
   ]
  },
  {
   "cell_type": "code",
   "execution_count": 44,
   "id": "1a0f6b21-5fe5-4241-9920-6052cf52752f",
   "metadata": {},
   "outputs": [],
   "source": [
    "class Human:\n",
    "    def eat(self):\n",
    "        print(\"He is eating.\")\n",
    "\n",
    "class Son(Human):\n",
    "    def jump(self):\n",
    "        print(\"Son is running.\")"
   ]
  },
  {
   "cell_type": "code",
   "execution_count": 50,
   "id": "c6cd86fa-08ae-4e86-8742-348ac175eec7",
   "metadata": {},
   "outputs": [],
   "source": [
    "son = Son()"
   ]
  },
  {
   "cell_type": "code",
   "execution_count": 51,
   "id": "14d04006-c133-42b2-ab79-62a8ee93dfde",
   "metadata": {},
   "outputs": [
    {
     "name": "stdout",
     "output_type": "stream",
     "text": [
      "He is eating.\n"
     ]
    }
   ],
   "source": [
    "son.eat()"
   ]
  },
  {
   "cell_type": "code",
   "execution_count": 52,
   "id": "d0496b28-8f09-4189-8972-69bc6157d1e3",
   "metadata": {},
   "outputs": [
    {
     "name": "stdout",
     "output_type": "stream",
     "text": [
      "Son is running.\n"
     ]
    }
   ],
   "source": [
    "son.jump()"
   ]
  },
  {
   "cell_type": "markdown",
   "id": "c331bcb0-3606-4cd4-aeea-725acb09b48d",
   "metadata": {},
   "source": [
    "Multiple Inheritance: Multiple inheritance allows a subclass to inherit from multiple base classes. It enables a class to combine and inherit attributes and methods from multiple sources. "
   ]
  },
  {
   "cell_type": "code",
   "execution_count": 57,
   "id": "4f8bd6dc-54e7-4cc8-920f-a63bafec6cee",
   "metadata": {},
   "outputs": [
    {
     "name": "stdout",
     "output_type": "stream",
     "text": [
      "Method A\n",
      "Method B\n",
      "Method C\n"
     ]
    }
   ],
   "source": [
    "class A:\n",
    "    def method_A(self):\n",
    "        print(\"Method A\")\n",
    "\n",
    "class B:\n",
    "    def method_B(self):\n",
    "        print(\"Method B\")\n",
    "\n",
    "class C(A, B):\n",
    "    def method_C(self):\n",
    "        print(\"Method C\")\n",
    "c = C()\n",
    "c.method_A()\n",
    "c.method_B()\n",
    "c.method_C()"
   ]
  }
 ],
 "metadata": {
  "kernelspec": {
   "display_name": "Python 3 (ipykernel)",
   "language": "python",
   "name": "python3"
  },
  "language_info": {
   "codemirror_mode": {
    "name": "ipython",
    "version": 3
   },
   "file_extension": ".py",
   "mimetype": "text/x-python",
   "name": "python",
   "nbconvert_exporter": "python",
   "pygments_lexer": "ipython3",
   "version": "3.10.8"
  }
 },
 "nbformat": 4,
 "nbformat_minor": 5
}
