{
 "cells": [
  {
   "cell_type": "markdown",
   "id": "ca0689a4-7ff7-46fc-831f-9e86fb9f9b16",
   "metadata": {},
   "source": [
    "Q1. What is multiprocessing in python? Why is it useful?"
   ]
  },
  {
   "cell_type": "markdown",
   "id": "915b7835-a335-40be-90bb-4c117d357ae5",
   "metadata": {},
   "source": [
    "In Python, multiprocessing is a module that allows you to create and manage multiple processes in parallel. It provides an interface for spawning processes, passing data between them, and synchronizing their execution. The multiprocessing module is particularly useful for leveraging multiple CPU cores or processors to perform tasks concurrently and speed up the execution time of CPU-intensive or time-consuming operations."
   ]
  },
  {
   "cell_type": "markdown",
   "id": "9750c78d-9b57-474b-9bfc-3e38898d0239",
   "metadata": {},
   "source": [
    "Q2. What are the differences between multiprocessing and multithreading."
   ]
  },
  {
   "cell_type": "markdown",
   "id": "3786ee26-f22c-4f66-bbf3-fec7b64d5120",
   "metadata": {},
   "source": [
    "Multiprocessing: In multiprocessing, multiple processes are created, and each process has its own memory space and resources. Processes are independent entities that do not share memory by default. Communication between processes typically involves explicit message passing or interprocess communication mechanisms.\n",
    "\n",
    "With multiprocessing, true parallelism can be achieved by executing processes simultaneously on multiple CPU cores or processors. Each process runs independently and can execute different parts of the program concurrently. This approach is suitable for CPU-bound tasks that benefit from distributing the workload across multiple cores.\n",
    "\n",
    "Multithreading: In multithreading, multiple threads are created within a single process. Threads share the same memory space and resources of the process. They can access and modify shared data directly, but this also requires careful synchronization to avoid issues like race conditions.\n",
    "\n",
    "In multithreading, concurrency is achieved by interleaving the execution of multiple threads within a single CPU core. Threads take turns executing their code, and the operating system's scheduler determines the order of execution. "
   ]
  },
  {
   "cell_type": "markdown",
   "id": "de48cdc0-637a-44a8-9f5e-c3f0fc267df7",
   "metadata": {},
   "source": [
    "Q3. Write a python code to create a process using the multiprocessing module."
   ]
  },
  {
   "cell_type": "code",
   "execution_count": 1,
   "id": "16239a25-17e7-49b3-8d5a-cb3c92d07683",
   "metadata": {},
   "outputs": [
    {
     "name": "stdout",
     "output_type": "stream",
     "text": [
      "Child process executing\n",
      "Parent process executing\n"
     ]
    }
   ],
   "source": [
    "import multiprocessing\n",
    "\n",
    "def my_process():\n",
    "    # Code to be executed in the child process\n",
    "    print(\"Child process executing\")\n",
    "\n",
    "if __name__ == \"__main__\":\n",
    "    # Create a Process object\n",
    "    process = multiprocessing.Process(target=my_process)\n",
    "\n",
    "    # Start the process\n",
    "    process.start()\n",
    "\n",
    "    # Wait for the process to finish\n",
    "    process.join()\n",
    "\n",
    "    # Code after the process has finished\n",
    "    print(\"Parent process executing\")"
   ]
  },
  {
   "cell_type": "markdown",
   "id": "b838c228-6d13-4e40-98f4-7146e465256a",
   "metadata": {},
   "source": [
    "Q4. What is a multiprocessing pool in python? Why is it used?"
   ]
  },
  {
   "cell_type": "markdown",
   "id": "db5e1c5e-d65a-4d2e-b99e-ebf06f92bc92",
   "metadata": {},
   "source": [
    "In Python, a multiprocessing pool is a high-level abstraction provided by the multiprocessing module that allows you to easily distribute tasks among a pool of worker processes. It provides a convenient way to parallelize and distribute the workload across multiple processes.\n",
    "\n",
    "Here are some key benefits and use cases of multiprocessing pools:\n",
    "\n",
    "Parallel Execution: Multiprocessing pools allow you to achieve parallel execution of tasks by utilizing multiple processes. This can significantly speed up the execution time of CPU-bound operations by distributing the workload across multiple CPU cores or processors.\n",
    "\n",
    "Simplified Task Distribution: The pool abstraction simplifies the distribution of tasks among worker processes. You don't have to manage the creation and coordination of individual processes manually. Instead, you can focus on defining the tasks and let the pool handle the distribution and execution.\n",
    "\n",
    "Resource Management: The pool takes care of managing the worker processes, recycling them, and reassigning new tasks to idle workers. This ensures efficient utilization of system resources and reduces the overhead of process creation and destruction."
   ]
  },
  {
   "cell_type": "markdown",
   "id": "4b3142a7-9711-4c79-82e7-88a4905b3ab0",
   "metadata": {},
   "source": [
    "Q6. Write a python program to create 4 processes, each process should print a different number using the\n",
    "multiprocessing module in python."
   ]
  },
  {
   "cell_type": "code",
   "execution_count": 2,
   "id": "bf033257-e6f6-429b-86a5-5fe0bef5abbf",
   "metadata": {},
   "outputs": [
    {
     "name": "stdout",
     "output_type": "stream",
     "text": [
      "Process ID: Process ID:7133 \n",
      "7136Number:\n",
      " Process ID:Number:1  \n",
      "71492\n",
      "\n",
      "Number:Process ID:  37172\n",
      "\n",
      "Number: 4\n"
     ]
    }
   ],
   "source": [
    "import multiprocessing\n",
    "\n",
    "def print_number(number):\n",
    "    print(\"Process ID:\", multiprocessing.current_process().pid)\n",
    "    print(\"Number:\", number)\n",
    "\n",
    "if __name__ == \"__main__\":\n",
    "    processes = []\n",
    "    numbers = [1, 2, 3, 4]\n",
    "\n",
    "    for number in numbers:\n",
    "        process = multiprocessing.Process(target=print_number, args=(number,))\n",
    "        processes.append(process)\n",
    "        process.start()\n",
    "\n",
    "    for process in processes:\n",
    "        process.join()\n"
   ]
  },
  {
   "cell_type": "code",
   "execution_count": null,
   "id": "29b59e59-c45e-463f-8d23-51a17c3e20ea",
   "metadata": {},
   "outputs": [],
   "source": []
  }
 ],
 "metadata": {
  "kernelspec": {
   "display_name": "Python 3 (ipykernel)",
   "language": "python",
   "name": "python3"
  },
  "language_info": {
   "codemirror_mode": {
    "name": "ipython",
    "version": 3
   },
   "file_extension": ".py",
   "mimetype": "text/x-python",
   "name": "python",
   "nbconvert_exporter": "python",
   "pygments_lexer": "ipython3",
   "version": "3.10.8"
  }
 },
 "nbformat": 4,
 "nbformat_minor": 5
}
