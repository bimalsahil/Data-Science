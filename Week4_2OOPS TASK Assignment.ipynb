{
 "cells": [
  {
   "cell_type": "markdown",
   "id": "4127f62e-033d-4110-97ac-5643bd949d30",
   "metadata": {},
   "source": [
    "Q1. What is Abstraction in OOps? Explain with an example."
   ]
  },
  {
   "cell_type": "markdown",
   "id": "91ed32c1-3f88-40d7-a339-6652d35216ef",
   "metadata": {},
   "source": [
    "Abstraction in object-oriented programming (OOP) is the process of representing essential features and behavior of real-world entities in a simplified and conceptual manner. It involves identifying the relevant attributes and methods of an object while hiding unnecessary details.\n",
    "\n",
    "Abstraction allows us to focus on the high-level structure and functionality of an object or a system, without getting into the implementation specifics. It helps in managing complexity, enhancing modularity, and providing a clear and concise view of the system."
   ]
  },
  {
   "cell_type": "code",
   "execution_count": 1,
   "id": "0bea3ee1-9f48-4561-a80e-ba8f2422e921",
   "metadata": {},
   "outputs": [
    {
     "name": "stdout",
     "output_type": "stream",
     "text": [
      "78.5\n",
      "24\n"
     ]
    }
   ],
   "source": [
    "from abc import ABC, abstractmethod\n",
    "\n",
    "class Shape(ABC):\n",
    "    @abstractmethod\n",
    "    def calculate_area(self):\n",
    "        pass\n",
    "\n",
    "class Circle(Shape):\n",
    "    def __init__(self, radius):\n",
    "        self.radius = radius\n",
    "\n",
    "    def calculate_area(self):\n",
    "        return 3.14 * self.radius * self.radius\n",
    "\n",
    "class Rectangle(Shape):\n",
    "    def __init__(self, length, width):\n",
    "        self.length = length\n",
    "        self.width = width\n",
    "\n",
    "    def calculate_area(self):\n",
    "        return self.length * self.width\n",
    "\n",
    "# Creating instances of the Circle and Rectangle classes\n",
    "circle = Circle(5)\n",
    "rectangle = Rectangle(4, 6)\n",
    "\n",
    "# Calling the calculate_area method on the instances\n",
    "circle_area = circle.calculate_area()\n",
    "rectangle_area = rectangle.calculate_area()\n",
    "\n",
    "print(circle_area)     # Output: 78.5\n",
    "print(rectangle_area)  # Output: 24"
   ]
  },
  {
   "cell_type": "markdown",
   "id": "d0b015b8-f56b-464c-b9a2-8011863163cc",
   "metadata": {},
   "source": [
    "Q2. Differentiate between Abstraction and Encapsulation. Explain with an example."
   ]
  },
  {
   "cell_type": "markdown",
   "id": "a6eca869-cad3-45e6-a8ec-1e57650d4147",
   "metadata": {},
   "source": [
    "Abstraction :\n",
    "\n",
    "Focuses on representing essential features and behavior of an object or system in a simplified manner.\n",
    "\n",
    "Hides unnecessary details and provides a high-level view of the system.\n",
    "\n",
    "Helps in achieving reusability and maintainability by focusing on essential characteristics."
   ]
  },
  {
   "cell_type": "markdown",
   "id": "e7fbaa5c-5bed-482c-82e4-22e865276b1d",
   "metadata": {},
   "source": [
    "Encapsulation :\n",
    "    \n",
    "Focuses on bundling data and methods together into a single unit (object) and controlling their visibility and access.\n",
    "\n",
    "Hides the internal state and protects it from external interference.\n",
    "\n",
    "Helps in achieving modularity and protects the integrity of the object's internal state."
   ]
  },
  {
   "cell_type": "markdown",
   "id": "abb06aee-d689-499a-975f-1fbb32764219",
   "metadata": {},
   "source": [
    "Q3. What is abc module in python? Why is it used?"
   ]
  },
  {
   "cell_type": "markdown",
   "id": "dbc741d6-6eb3-4bf7-8c7e-6bd16d1e5f82",
   "metadata": {},
   "source": [
    "The abc module in Python stands for \"Abstract Base Classes.\" It provides mechanisms for defining abstract base classes in Python. An abstract base class is a class that cannot be instantiated and is meant to serve as a blueprint for other classes.\n",
    "\n",
    "The abc module is used for creating abstract base classes and defining abstract methods. It provides the ABC class and the abstractmethod decorator, which are used as tools for defining abstract base classes and abstract methods, respectively."
   ]
  },
  {
   "cell_type": "markdown",
   "id": "2c8ee793-ce29-4167-ac18-01c3403cb7a4",
   "metadata": {},
   "source": [
    "Q4. How can we achieve data abstraction?"
   ]
  },
  {
   "cell_type": "markdown",
   "id": "15adba09-e477-4b91-bed3-f383ad509539",
   "metadata": {},
   "source": [
    "Data abstraction can be achieved in Python through the following techniques:\n",
    "\n",
    "1. Classes and Objects\n",
    "2. Access Modifiers\n",
    "3. Getter and Setter Methods\n",
    "4. Abstract Base Classes\n",
    "5. Inheritance and Polymorphism"
   ]
  },
  {
   "cell_type": "markdown",
   "id": "43931104-8b8c-4f86-9b42-9ee4cadecb3b",
   "metadata": {},
   "source": [
    "Q5. Can we create an instance of an abstract class? Explain your answer"
   ]
  },
  {
   "cell_type": "markdown",
   "id": "42a9251f-612f-4270-9e83-46b01aeb04ef",
   "metadata": {},
   "source": [
    "No, we cannot create an instance of an abstract class in Python. An abstract class is a class that cannot be instantiated directly. It serves as a blueprint for other classes and is meant to be subclassed."
   ]
  },
  {
   "cell_type": "markdown",
   "id": "3237fafb-1cf8-4654-a041-9856dc57eaac",
   "metadata": {},
   "source": [
    "When we try to create an instance of an abstract class, Python raises a TypeError. This is because abstract classes are incomplete and lack the necessary implementation details for their abstract methods. "
   ]
  },
  {
   "cell_type": "code",
   "execution_count": null,
   "id": "b15c9c78-039f-4d2b-a4f1-8e0c7dd53875",
   "metadata": {},
   "outputs": [],
   "source": []
  }
 ],
 "metadata": {
  "kernelspec": {
   "display_name": "Python 3 (ipykernel)",
   "language": "python",
   "name": "python3"
  },
  "language_info": {
   "codemirror_mode": {
    "name": "ipython",
    "version": 3
   },
   "file_extension": ".py",
   "mimetype": "text/x-python",
   "name": "python",
   "nbconvert_exporter": "python",
   "pygments_lexer": "ipython3",
   "version": "3.10.8"
  }
 },
 "nbformat": 4,
 "nbformat_minor": 5
}
