{
 "cells": [
  {
   "cell_type": "markdown",
   "id": "5249054f-6081-40e2-be92-b225b6cb6de8",
   "metadata": {},
   "source": [
    "Q. 1 What is multithreading in python? Why is it used? Name the module used to handle threads in python."
   ]
  },
  {
   "cell_type": "markdown",
   "id": "c45044f2-e180-4f1e-a3ec-43c3cf20ce34",
   "metadata": {},
   "source": [
    "Multithreading in Python refers to the ability of a program to execute multiple threads concurrently within a single process. A thread is a separate sequence of instructions that can run independently, sharing the same memory space and system resources of the parent process.\n",
    "\n",
    "Multithreading is used in Python to achieve parallelism, where multiple tasks can be executed simultaneously, improving the overall performance and responsiveness of an application. "
   ]
  },
  {
   "cell_type": "markdown",
   "id": "9abbfd77-23f5-4bd2-884d-4024bc168b08",
   "metadata": {},
   "source": [
    "Q. 2 Why threading module is used ? Write the use of the following functions:\n",
    "activeCount()\n",
    "currentThread()\n",
    "enumerate()"
   ]
  },
  {
   "cell_type": "markdown",
   "id": "69260a04-f9b2-4554-b660-da8702c65b59",
   "metadata": {},
   "source": [
    "The threading module in Python is used to handle threads and provides a higher-level interface for working with concurrent execution. It simplifies the process of creating, managing, and synchronizing threads in Python programs."
   ]
  },
  {
   "cell_type": "markdown",
   "id": "a2957532-5cde-4a58-a8d8-e17f2612bf49",
   "metadata": {},
   "source": [
    "activeCount(): This function returns the number of Thread objects currently alive. It is used to determine the current number of active threads in the program."
   ]
  },
  {
   "cell_type": "markdown",
   "id": "4a6260a1-b6f2-4905-a72c-efbafc76784e",
   "metadata": {},
   "source": [
    "currentThread(): This function returns the Thread object corresponding to the current thread of execution. It is typically used within a thread to get a reference to itself."
   ]
  },
  {
   "cell_type": "markdown",
   "id": "39189383-b2bd-4b5e-a7f0-8b389d391df9",
   "metadata": {},
   "source": [
    "enumerate(): This function returns a list of all Thread objects currently alive. It is used to obtain a list of all active threads in the program. Each thread in the list can be accessed to perform various operations, such as getting its name, identification number, or checking its status."
   ]
  },
  {
   "cell_type": "markdown",
   "id": "cf3c9890-709d-46aa-a51d-d561707a23f9",
   "metadata": {},
   "source": [
    "Q. 3 Explain the following functions in Python: \n",
    "run()\n",
    "start()\n",
    "join()\n",
    "isAlive()"
   ]
  },
  {
   "cell_type": "markdown",
   "id": "8df45bd1-eca9-4c94-b1cd-ac8a4899f344",
   "metadata": {},
   "source": [
    "The run() method is the entry point for the thread's execution logic. It is a method that you can define in your custom Thread subclass to specify the actions that the thread should perform."
   ]
  },
  {
   "cell_type": "markdown",
   "id": "c0095e90-acab-44d6-83f1-3fd206191740",
   "metadata": {},
   "source": [
    "The start() method is used to start the execution of a thread. It creates a new thread of execution, assigns it a unique thread ID, and invokes the run() method of the thread."
   ]
  },
  {
   "cell_type": "markdown",
   "id": "3c9e7e60-7cf3-413f-82ef-89cc3eb5a7c8",
   "metadata": {},
   "source": [
    "The join() method is used to wait for a thread to complete its execution. When you call join() on a Thread object, the calling thread will be blocked until the target thread terminates."
   ]
  },
  {
   "cell_type": "markdown",
   "id": "534afdb0-84fb-44c0-83a1-e2e39ebe8c97",
   "metadata": {},
   "source": [
    "The isAlive() method is used to check if a thread is currently executing or alive. It returns a boolean value indicating whether the thread is still running or has completed its execution"
   ]
  },
  {
   "cell_type": "markdown",
   "id": "f0378601-d7a6-43cc-84f1-15ac7ba27110",
   "metadata": {},
   "source": [
    "Q. 4 Write a python program to create two threads. Thread one must print the list of squares and thread two must print the list of cubes."
   ]
  },
  {
   "cell_type": "code",
   "execution_count": 1,
   "id": "e600ee99-dc0b-4654-a0f3-b4f44a4b5dfd",
   "metadata": {},
   "outputs": [
    {
     "name": "stdout",
     "output_type": "stream",
     "text": [
      "Square of 1 is 1\n",
      "Square of 2 is 4\n",
      "Square of 3 is 9\n",
      "Square of 4 is 16\n",
      "Square of 5 is 25\n",
      "Square of 6 is 36\n",
      "Square of 7 is 49\n",
      "Square of 8 is 64\n",
      "Square of 9 is 81\n",
      "Square of 10 is 100\n",
      "Cube of 1 is 1\n",
      "Cube of 2 is 8\n",
      "Cube of 3 is 27\n",
      "Cube of 4 is 64\n",
      "Cube of 5 is 125\n",
      "Cube of 6 is 216\n",
      "Cube of 7 is 343\n",
      "Cube of 8 is 512\n",
      "Cube of 9 is 729\n",
      "Cube of 10 is 1000\n"
     ]
    }
   ],
   "source": [
    "import threading\n",
    "\n",
    "def print_squares():\n",
    "    for i in range(1, 11):\n",
    "        print(f\"Square of {i} is {i*i}\")\n",
    "\n",
    "def print_cubes():\n",
    "    for i in range(1, 11):\n",
    "        print(f\"Cube of {i} is {i*i*i}\")\n",
    "\n",
    "# Create the first thread for printing squares\n",
    "thread1 = threading.Thread(target=print_squares)\n",
    "\n",
    "# Create the second thread for printing cubes\n",
    "thread2 = threading.Thread(target=print_cubes)\n",
    "\n",
    "# Start both threads\n",
    "thread1.start()\n",
    "thread2.start()\n",
    "\n",
    "# Wait for both threads to finish\n",
    "thread1.join()\n",
    "thread2.join()"
   ]
  },
  {
   "cell_type": "markdown",
   "id": "ca9e5ea3-c234-497b-93f2-87bba257c84e",
   "metadata": {},
   "source": [
    "Q. 6 State advantages and disadvantages of multithreading."
   ]
  },
  {
   "cell_type": "markdown",
   "id": "c78936c1-2496-4943-92f3-cd64d84afd25",
   "metadata": {},
   "source": [
    "1. Advantages of Multithreading: \n",
    "\n",
    "Increased Responsiveness: Multithreading allows concurrent execution of multiple threads within a single process. This improves the responsiveness of an application by ensuring that tasks can be executed in parallel. For example, a user interface can remain responsive while background tasks are running.\n",
    "\n",
    "Improved Performance: Multithreading can lead to improved performance by utilizing available system resources efficiently. When tasks can be divided into smaller units and executed concurrently, the overall processing time can be reduced, especially in scenarios where tasks are CPU-intensive or involve I/O operations.\n",
    "\n",
    "Resource Sharing: Threads within a process share the same memory space, allowing them to easily share data and communicate with each other. This enables efficient data sharing and coordination between threads, which can be beneficial for tasks that require shared resources or synchronized operations.\n",
    "\n",
    "2. Disadvantages of Multithreading:\n",
    "\n",
    "Increased Complexity: Multithreaded programs can be more complex to design, implement, and debug compared to single-threaded programs. Managing shared resources, ensuring thread safety, and avoiding synchronization issues can be challenging and may require careful consideration.\n",
    "\n",
    "Synchronization Overhead: When multiple threads access shared resources simultaneously, synchronization mechanisms such as locks, mutexes, or semaphores need to be used to prevent race conditions. These mechanisms introduce additional overhead and can impact performance if not used judiciously.\n",
    "\n",
    "Potential for Deadlocks: Multithreading introduces the possibility of deadlocks, where two or more threads are blocked indefinitely, waiting for each other to release resources. \n",
    "\n",
    "Deadlocks can occur when threads acquire locks in different orders, leading to a situation where none of them can proceed."
   ]
  },
  {
   "cell_type": "markdown",
   "id": "2b2ba8a7-e242-409a-ad68-072c7bd72de0",
   "metadata": {},
   "source": [
    "Q. 7 Explain deadlocks and race conditions."
   ]
  },
  {
   "cell_type": "markdown",
   "id": "15ea2be0-603f-4304-aa62-7a3fa34d1856",
   "metadata": {},
   "source": [
    "A deadlock is a situation where two or more threads are blocked indefinitely, each waiting for the other to release a resource that they hold, resulting in a deadlock state. In other words, it's a situation where threads are stuck and cannot proceed. Deadlocks typically occur due to a circular dependency between threads or resources. Deadlocks can cause a program to hang or become unresponsive."
   ]
  },
  {
   "cell_type": "markdown",
   "id": "49b36457-55c6-467f-a9fc-5e1361aa8b36",
   "metadata": {},
   "source": [
    "A race condition occurs when the behavior or outcome of a program depends on the interleaving or ordering of execution of multiple threads, and the result is unpredictable or incorrect. It arises when multiple threads access shared resources concurrently without proper synchronization. The timing and interleaving of thread execution can lead to unexpected and undesirable results, such as incorrect values, data corruption, or inconsistent program state."
   ]
  },
  {
   "cell_type": "code",
   "execution_count": null,
   "id": "badd00b9-77fa-4c02-ac63-0f41cb29baca",
   "metadata": {},
   "outputs": [],
   "source": []
  }
 ],
 "metadata": {
  "kernelspec": {
   "display_name": "Python 3 (ipykernel)",
   "language": "python",
   "name": "python3"
  },
  "language_info": {
   "codemirror_mode": {
    "name": "ipython",
    "version": 3
   },
   "file_extension": ".py",
   "mimetype": "text/x-python",
   "name": "python",
   "nbconvert_exporter": "python",
   "pygments_lexer": "ipython3",
   "version": "3.10.8"
  }
 },
 "nbformat": 4,
 "nbformat_minor": 5
}
