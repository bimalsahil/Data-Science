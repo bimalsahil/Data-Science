{
 "cells": [
  {
   "cell_type": "code",
   "execution_count": 5,
   "id": "12cec144-c92e-4eb2-9606-c05b5a96b9ce",
   "metadata": {},
   "outputs": [],
   "source": [
    "#Q.1 Create one variable containing following type of data:"
   ]
  },
  {
   "cell_type": "code",
   "execution_count": 7,
   "id": "ac049dd9-15cb-4f6e-8ef6-f70207e4606a",
   "metadata": {},
   "outputs": [],
   "source": [
    "#1.String"
   ]
  },
  {
   "cell_type": "code",
   "execution_count": 1,
   "id": "3e9c1492-98d6-448c-a6bc-2d6cd2c311c9",
   "metadata": {},
   "outputs": [],
   "source": [
    "myname = 'Sahil Bimal'"
   ]
  },
  {
   "cell_type": "code",
   "execution_count": 2,
   "id": "ba2504b0-6341-4b45-b906-0906814e513f",
   "metadata": {},
   "outputs": [
    {
     "data": {
      "text/plain": [
       "'Sahil Bimal'"
      ]
     },
     "execution_count": 2,
     "metadata": {},
     "output_type": "execute_result"
    }
   ],
   "source": [
    "myname"
   ]
  },
  {
   "cell_type": "code",
   "execution_count": 3,
   "id": "5ffaa816-f2d2-4f47-b66d-12c708d17907",
   "metadata": {},
   "outputs": [],
   "source": [
    "#2. List"
   ]
  },
  {
   "cell_type": "code",
   "execution_count": 4,
   "id": "9b39dd4d-13a7-483a-8c7a-546edb53f8cf",
   "metadata": {},
   "outputs": [],
   "source": [
    "data = ['Sahil Bimal',1997,5.7,True]"
   ]
  },
  {
   "cell_type": "code",
   "execution_count": 5,
   "id": "fcc47192-f9b7-43fa-8a9b-0872df536109",
   "metadata": {},
   "outputs": [
    {
     "data": {
      "text/plain": [
       "['Sahil Bimal', 1997, 5.7, True]"
      ]
     },
     "execution_count": 5,
     "metadata": {},
     "output_type": "execute_result"
    }
   ],
   "source": [
    "data"
   ]
  },
  {
   "cell_type": "code",
   "execution_count": 6,
   "id": "6ab494b7-a891-4f4d-9d7d-416279d08c36",
   "metadata": {},
   "outputs": [],
   "source": [
    "#3. Float"
   ]
  },
  {
   "cell_type": "code",
   "execution_count": 7,
   "id": "f8ba6377-a0fc-4475-8657-75b1512e4455",
   "metadata": {},
   "outputs": [],
   "source": [
    "decimal = 0.5, 1.9, 55.9"
   ]
  },
  {
   "cell_type": "code",
   "execution_count": 8,
   "id": "a53820f4-7150-49ba-a6d3-a0e481e69dce",
   "metadata": {},
   "outputs": [
    {
     "data": {
      "text/plain": [
       "(0.5, 1.9, 55.9)"
      ]
     },
     "execution_count": 8,
     "metadata": {},
     "output_type": "execute_result"
    }
   ],
   "source": [
    "decimal"
   ]
  },
  {
   "cell_type": "code",
   "execution_count": 9,
   "id": "abc99f34-029a-4adb-82bf-685703bca1c8",
   "metadata": {},
   "outputs": [],
   "source": [
    "#4.Tuple"
   ]
  },
  {
   "cell_type": "code",
   "execution_count": 10,
   "id": "ea353938-5306-47b2-8cc1-aba9dc51c7af",
   "metadata": {},
   "outputs": [],
   "source": [
    "tuple = ('Sahil Bimal',1997,5.7,True)"
   ]
  },
  {
   "cell_type": "code",
   "execution_count": 11,
   "id": "d7525e96-72f5-48fe-8845-286c4619979f",
   "metadata": {},
   "outputs": [
    {
     "data": {
      "text/plain": [
       "('Sahil Bimal', 1997, 5.7, True)"
      ]
     },
     "execution_count": 11,
     "metadata": {},
     "output_type": "execute_result"
    }
   ],
   "source": [
    "tuple"
   ]
  },
  {
   "cell_type": "code",
   "execution_count": 12,
   "id": "3b0c4393-4b48-4ade-9816-eead3fb96cfb",
   "metadata": {},
   "outputs": [],
   "source": [
    "#Q.2 Given are some following variables containing data"
   ]
  },
  {
   "cell_type": "code",
   "execution_count": 13,
   "id": "c50a9d0d-214a-4a49-9d7f-c7bddc76339d",
   "metadata": {},
   "outputs": [],
   "source": [
    "#1. var1 is Empty string"
   ]
  },
  {
   "cell_type": "code",
   "execution_count": 14,
   "id": "90fc2dae-cfb4-4fa2-9e6f-b4ecffd789f5",
   "metadata": {},
   "outputs": [],
   "source": [
    "var1 = ' '"
   ]
  },
  {
   "cell_type": "code",
   "execution_count": 15,
   "id": "3f4ce36a-5219-4568-9837-e22fe11736f9",
   "metadata": {},
   "outputs": [
    {
     "data": {
      "text/plain": [
       "' '"
      ]
     },
     "execution_count": 15,
     "metadata": {},
     "output_type": "execute_result"
    }
   ],
   "source": [
    "var1"
   ]
  },
  {
   "cell_type": "code",
   "execution_count": 16,
   "id": "40304276-4ab6-4f28-8ff7-775a135aec47",
   "metadata": {},
   "outputs": [],
   "source": [
    "#2. var2 is a string because anything inside quotes is considered as a string."
   ]
  },
  {
   "cell_type": "code",
   "execution_count": 17,
   "id": "80871577-6749-4405-8d63-cdb26edebe39",
   "metadata": {},
   "outputs": [],
   "source": [
    "var2 = '[DS,ML,Python]'\n"
   ]
  },
  {
   "cell_type": "code",
   "execution_count": 18,
   "id": "7aea564c-ffdb-46a9-8edb-ad3e4359a3d1",
   "metadata": {},
   "outputs": [
    {
     "data": {
      "text/plain": [
       "'[DS,ML,Python]'"
      ]
     },
     "execution_count": 18,
     "metadata": {},
     "output_type": "execute_result"
    }
   ],
   "source": [
    "var2"
   ]
  },
  {
   "cell_type": "code",
   "execution_count": 19,
   "id": "f7c3e68b-d241-4316-97f4-240a7377c9c3",
   "metadata": {},
   "outputs": [],
   "source": [
    "#3. var3 is a List because anything that is inside big brackets is considered as a list."
   ]
  },
  {
   "cell_type": "code",
   "execution_count": 20,
   "id": "a2b774c6-3e3e-4cad-9694-da66c95567b8",
   "metadata": {},
   "outputs": [],
   "source": [
    "var3 = ['DS' , 'ML' , 'Python']"
   ]
  },
  {
   "cell_type": "code",
   "execution_count": 21,
   "id": "a3a990a8-3ed2-411c-893f-5f135f6e2f32",
   "metadata": {},
   "outputs": [
    {
     "data": {
      "text/plain": [
       "['DS', 'ML', 'Python']"
      ]
     },
     "execution_count": 21,
     "metadata": {},
     "output_type": "execute_result"
    }
   ],
   "source": [
    "var3"
   ]
  },
  {
   "cell_type": "code",
   "execution_count": 22,
   "id": "e9c55589-09b9-4f61-961f-b12a9680d85c",
   "metadata": {},
   "outputs": [],
   "source": [
    "#4. var4 is a integer."
   ]
  },
  {
   "cell_type": "code",
   "execution_count": 23,
   "id": "60fd57cb-d3db-4cfd-81fa-445bc7e490c7",
   "metadata": {},
   "outputs": [],
   "source": [
    "var4 = 1"
   ]
  },
  {
   "cell_type": "code",
   "execution_count": 24,
   "id": "d93eba37-2cea-41ac-a21c-ea27a0b8dcf9",
   "metadata": {},
   "outputs": [
    {
     "data": {
      "text/plain": [
       "1"
      ]
     },
     "execution_count": 24,
     "metadata": {},
     "output_type": "execute_result"
    }
   ],
   "source": [
    "var4"
   ]
  },
  {
   "cell_type": "code",
   "execution_count": 25,
   "id": "bee71635-b0d1-48c8-9248-153dbda9c112",
   "metadata": {},
   "outputs": [],
   "source": [
    "#Q.3 (i) It is used for division where quotient is returned."
   ]
  },
  {
   "cell_type": "code",
   "execution_count": 26,
   "id": "93092e16-2c3d-4c75-b07f-7319dee3da17",
   "metadata": {},
   "outputs": [],
   "source": [
    "example = 24/5"
   ]
  },
  {
   "cell_type": "code",
   "execution_count": 27,
   "id": "bbf241b7-d131-4122-93b6-4f844ccd39bb",
   "metadata": {},
   "outputs": [
    {
     "data": {
      "text/plain": [
       "4.8"
      ]
     },
     "execution_count": 27,
     "metadata": {},
     "output_type": "execute_result"
    }
   ],
   "source": [
    "example"
   ]
  },
  {
   "cell_type": "code",
   "execution_count": 28,
   "id": "d422e268-b7f8-427c-9082-5803831a5f53",
   "metadata": {},
   "outputs": [],
   "source": [
    "#(ii) It also performs division but it returns remainder and it is known as MOD opertor."
   ]
  },
  {
   "cell_type": "code",
   "execution_count": 29,
   "id": "5da0f52a-355a-4f17-940e-e0f6fae07c08",
   "metadata": {},
   "outputs": [],
   "source": [
    "example2 = 24%5"
   ]
  },
  {
   "cell_type": "code",
   "execution_count": 30,
   "id": "7c57e19f-8baf-45a1-ba9d-30f76b1f5159",
   "metadata": {},
   "outputs": [
    {
     "data": {
      "text/plain": [
       "4"
      ]
     },
     "execution_count": 30,
     "metadata": {},
     "output_type": "execute_result"
    }
   ],
   "source": [
    "example2"
   ]
  },
  {
   "cell_type": "code",
   "execution_count": 31,
   "id": "559c7367-59d6-4f42-9157-caa2aa5efcd3",
   "metadata": {},
   "outputs": [],
   "source": [
    "#(iii) It performs floor division by rounding the quotient to nearest whole number"
   ]
  },
  {
   "cell_type": "code",
   "execution_count": 32,
   "id": "145b3152-9e4b-4b34-a6ae-1792b50e405d",
   "metadata": {},
   "outputs": [],
   "source": [
    "example3 = 24//5"
   ]
  },
  {
   "cell_type": "code",
   "execution_count": 33,
   "id": "be43a229-b573-4c57-ae90-a6976bc9221a",
   "metadata": {},
   "outputs": [
    {
     "data": {
      "text/plain": [
       "4"
      ]
     },
     "execution_count": 33,
     "metadata": {},
     "output_type": "execute_result"
    }
   ],
   "source": [
    "example3"
   ]
  },
  {
   "cell_type": "code",
   "execution_count": 34,
   "id": "5fc8d634-b171-49f8-a2c7-5522bc300046",
   "metadata": {},
   "outputs": [],
   "source": [
    "#(iv) It is used for expotentiation"
   ]
  },
  {
   "cell_type": "code",
   "execution_count": 35,
   "id": "4951638d-baf9-4297-8551-c17cf0a70849",
   "metadata": {},
   "outputs": [],
   "source": [
    "example4 = 5**5"
   ]
  },
  {
   "cell_type": "code",
   "execution_count": 36,
   "id": "d48be3fa-9047-4126-8da3-a5a2f04196d2",
   "metadata": {},
   "outputs": [
    {
     "data": {
      "text/plain": [
       "3125"
      ]
     },
     "execution_count": 36,
     "metadata": {},
     "output_type": "execute_result"
    }
   ],
   "source": [
    "example4"
   ]
  },
  {
   "cell_type": "code",
   "execution_count": 48,
   "id": "180fee78-a263-4227-85e0-062ef597f313",
   "metadata": {},
   "outputs": [],
   "source": [
    "#Q.4 Create a list of length 10 of your choice containing multiple types of data. Using for loop print the element and its data type"
   ]
  },
  {
   "cell_type": "code",
   "execution_count": 38,
   "id": "84f60a2a-aaf3-4e84-a3cf-2e2d6d77ab32",
   "metadata": {},
   "outputs": [],
   "source": [
    "mychoice = [10, 'Sahil','Nupur',5.7,5.2,True,3,'Mummy','Papa',10.3]"
   ]
  },
  {
   "cell_type": "code",
   "execution_count": 39,
   "id": "7141bd41-d9d5-446d-a7d7-d44975dd5f92",
   "metadata": {},
   "outputs": [
    {
     "data": {
      "text/plain": [
       "[10, 'Sahil', 'Nupur', 5.7, 5.2, True, 3, 'Mummy', 'Papa', 10.3]"
      ]
     },
     "execution_count": 39,
     "metadata": {},
     "output_type": "execute_result"
    }
   ],
   "source": [
    "mychoice"
   ]
  },
  {
   "cell_type": "code",
   "execution_count": 40,
   "id": "4e18872e-694d-45d6-a0bc-24d3919a5be7",
   "metadata": {},
   "outputs": [
    {
     "name": "stdout",
     "output_type": "stream",
     "text": [
      "10\n",
      "Sahil\n",
      "Nupur\n",
      "5.7\n",
      "5.2\n",
      "True\n",
      "3\n",
      "Mummy\n",
      "Papa\n",
      "10.3\n"
     ]
    }
   ],
   "source": [
    "for i in mychoice :\n",
    "    print(i)"
   ]
  },
  {
   "cell_type": "code",
   "execution_count": 41,
   "id": "c0d012bd-d637-43fb-b394-7c8bfa0a3fa6",
   "metadata": {},
   "outputs": [
    {
     "name": "stdout",
     "output_type": "stream",
     "text": [
      "<class 'int'>\n",
      "<class 'str'>\n",
      "<class 'str'>\n",
      "<class 'float'>\n",
      "<class 'float'>\n",
      "<class 'bool'>\n",
      "<class 'int'>\n",
      "<class 'str'>\n",
      "<class 'str'>\n",
      "<class 'float'>\n"
     ]
    }
   ],
   "source": [
    "for i in mychoice :\n",
    "    print(type(i))"
   ]
  },
  {
   "cell_type": "code",
   "execution_count": 47,
   "id": "41af5cc2-f0cc-4ac9-a01b-5d466efaf68d",
   "metadata": {},
   "outputs": [],
   "source": [
    "#Q.5 Using a while loop, verify if the number A is purely divisible by number B and if so then how many times it can be divisible.\n",
    "\n"
   ]
  },
  {
   "cell_type": "code",
   "execution_count": 9,
   "id": "74f9c438-325e-4bc0-ba0a-bbddb64a4f2b",
   "metadata": {},
   "outputs": [
    {
     "ename": "NameError",
     "evalue": "name 'i' is not defined",
     "output_type": "error",
     "traceback": [
      "\u001b[0;31m---------------------------------------------------------------------------\u001b[0m",
      "\u001b[0;31mNameError\u001b[0m                                 Traceback (most recent call last)",
      "Cell \u001b[0;32mIn[9], line 4\u001b[0m\n\u001b[1;32m      2\u001b[0m b \u001b[38;5;241m=\u001b[39m \u001b[38;5;241m5\u001b[39m\n\u001b[1;32m      3\u001b[0m \u001b[38;5;28;01mwhile\u001b[39;00m a \u001b[38;5;241m%\u001b[39m b \u001b[38;5;241m==\u001b[39m \u001b[38;5;241m0\u001b[39m :\n\u001b[0;32m----> 4\u001b[0m     \u001b[38;5;28mprint\u001b[39m(\u001b[43mi\u001b[49m)\n\u001b[1;32m      5\u001b[0m \u001b[38;5;28;01melse\u001b[39;00m :\n\u001b[1;32m      6\u001b[0m     \u001b[38;5;28mprint\u001b[39m(\u001b[38;5;124m'\u001b[39m\u001b[38;5;124mA is not divisible by 3\u001b[39m\u001b[38;5;124m'\u001b[39m)\n",
      "\u001b[0;31mNameError\u001b[0m: name 'i' is not defined"
     ]
    }
   ],
   "source": [
    "a = 20\n",
    "b = 5\n",
    "while a % b == 0 :\n",
    "    print(i)\n",
    "else :\n",
    "    print('A is not divisible by 3')"
   ]
  },
  {
   "cell_type": "code",
   "execution_count": 50,
   "id": "9887f432-ceee-4bcb-9f82-35a641f2b1ae",
   "metadata": {},
   "outputs": [],
   "source": [
    "#Q.6 Create a list containing 25 int type data. Using for loop and if-else condition print if the element is divisible by 3 or not."
   ]
  },
  {
   "cell_type": "code",
   "execution_count": 1,
   "id": "60341804-c715-468c-949a-751e37b54b60",
   "metadata": {},
   "outputs": [],
   "source": [
    "sample = [23, 56, 67, 78, 89, 96, 110, 123, 135, 345, 234, 678, 456, 485, 678, 765, 560, 978, 543, 765, 324, 576, 900, 876, 321]"
   ]
  },
  {
   "cell_type": "code",
   "execution_count": 2,
   "id": "e2af5173-71ba-48c0-9600-797e1ce82477",
   "metadata": {},
   "outputs": [
    {
     "data": {
      "text/plain": [
       "[23,\n",
       " 56,\n",
       " 67,\n",
       " 78,\n",
       " 89,\n",
       " 96,\n",
       " 110,\n",
       " 123,\n",
       " 135,\n",
       " 345,\n",
       " 234,\n",
       " 678,\n",
       " 456,\n",
       " 485,\n",
       " 678,\n",
       " 765,\n",
       " 560,\n",
       " 978,\n",
       " 543,\n",
       " 765,\n",
       " 324,\n",
       " 576,\n",
       " 900,\n",
       " 876,\n",
       " 321]"
      ]
     },
     "execution_count": 2,
     "metadata": {},
     "output_type": "execute_result"
    }
   ],
   "source": [
    "sample"
   ]
  },
  {
   "cell_type": "code",
   "execution_count": 3,
   "id": "0f2a1082-bd11-41b7-8fb5-d15dd6e10b22",
   "metadata": {},
   "outputs": [
    {
     "name": "stdout",
     "output_type": "stream",
     "text": [
      "23 is not divisible by 3\n",
      "56 is not divisible by 3\n",
      "67 is not divisible by 3\n",
      "78 is divisible by 3\n",
      "89 is not divisible by 3\n",
      "96 is divisible by 3\n",
      "110 is not divisible by 3\n",
      "123 is divisible by 3\n",
      "135 is divisible by 3\n",
      "345 is divisible by 3\n",
      "234 is divisible by 3\n",
      "678 is divisible by 3\n",
      "456 is divisible by 3\n",
      "485 is not divisible by 3\n",
      "678 is divisible by 3\n",
      "765 is divisible by 3\n",
      "560 is not divisible by 3\n",
      "978 is divisible by 3\n",
      "543 is divisible by 3\n",
      "765 is divisible by 3\n",
      "324 is divisible by 3\n",
      "576 is divisible by 3\n",
      "900 is divisible by 3\n",
      "876 is divisible by 3\n",
      "321 is divisible by 3\n"
     ]
    }
   ],
   "source": [
    "for num in sample:\n",
    "    if num % 3 == 0:\n",
    "        print(num,'is divisible by 3')\n",
    "    else :\n",
    "        print(num,'is not divisible by 3')"
   ]
  },
  {
   "cell_type": "code",
   "execution_count": 4,
   "id": "2158960f-dc9c-4dd7-8480-764b48e541c5",
   "metadata": {},
   "outputs": [],
   "source": [
    "#Q.7 What do you understand about mutable and immutable data types? Give examples for both showing this property."
   ]
  },
  {
   "cell_type": "code",
   "execution_count": 6,
   "id": "028dfa7b-b9de-4834-8f6d-881e8a68af44",
   "metadata": {},
   "outputs": [],
   "source": [
    "# Answer: The basic and main difference between mutable and immutable data types is that, mutable data can be modified and replaced once they are created but immutable data types cannot be modified or altered once they are created."
   ]
  },
  {
   "cell_type": "code",
   "execution_count": 33,
   "id": "8df947a7-ea85-4319-b1de-e19079c91c13",
   "metadata": {},
   "outputs": [],
   "source": [
    "###End of Week 1 #####"
   ]
  },
  {
   "cell_type": "code",
   "execution_count": null,
   "id": "0b529185-50df-4a87-9587-5333109e08f9",
   "metadata": {},
   "outputs": [],
   "source": []
  },
  {
   "cell_type": "code",
   "execution_count": null,
   "id": "03d4b41f-c6f4-41ee-964f-7d6a8a037304",
   "metadata": {},
   "outputs": [],
   "source": []
  },
  {
   "cell_type": "code",
   "execution_count": null,
   "id": "7344ffc5-037d-4413-997c-e97b89bd6096",
   "metadata": {},
   "outputs": [],
   "source": []
  }
 ],
 "metadata": {
  "kernelspec": {
   "display_name": "Python 3 (ipykernel)",
   "language": "python",
   "name": "python3"
  },
  "language_info": {
   "codemirror_mode": {
    "name": "ipython",
    "version": 3
   },
   "file_extension": ".py",
   "mimetype": "text/x-python",
   "name": "python",
   "nbconvert_exporter": "python",
   "pygments_lexer": "ipython3",
   "version": "3.10.8"
  }
 },
 "nbformat": 4,
 "nbformat_minor": 5
}
