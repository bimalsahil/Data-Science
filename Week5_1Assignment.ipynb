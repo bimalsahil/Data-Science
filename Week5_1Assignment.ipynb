{
 "cells": [
  {
   "cell_type": "markdown",
   "id": "a39100e4-b713-47e7-af3c-2a209e8e060c",
   "metadata": {},
   "source": [
    "Q. 1 What is an exception in python ? Write the difference between exception and syntax errors.\n"
   ]
  },
  {
   "cell_type": "markdown",
   "id": "47834cbd-7bed-44c0-8c00-0cb105292dcd",
   "metadata": {},
   "source": [
    "In Python, an exception is an event that occurs during the execution of a program, which disrupts the normal flow of the program's instructions. Exceptions can occur due to various reasons, such as errors in program logic, invalid input, or issues with system resources. Examples of common exceptions in Python include TypeError, ValueError, FileNotFoundError, and ZeroDivisionError.\n",
    "\n",
    "On the other hand, syntax errors are errors that occur when we write code that violates the syntax rules of the Python language. These errors are detected by the Python interpreter during the parsing phase, before the program is executed. Syntax errors indicate that there is a mistake in the structure or syntax of your code, such as missing colons, parentheses, or incorrect indentation."
   ]
  },
  {
   "cell_type": "markdown",
   "id": "947609fa-04b3-463c-8e13-6fcfcb2d7816",
   "metadata": {},
   "source": [
    "Q. 2 What happens when an execution is not handled? Explain with examples."
   ]
  },
  {
   "cell_type": "markdown",
   "id": "2eb8dd8c-4162-4919-bc6f-c7396a192d52",
   "metadata": {},
   "source": [
    "When an exception is raised during the execution of a program and it is not handled, the program will terminate abruptly, and an error message known as a traceback will be displayed. The traceback provides information about the exception that occurred and the sequence of function calls that led to the exception."
   ]
  },
  {
   "cell_type": "code",
   "execution_count": 5,
   "id": "a7e64ddc-98f8-461d-b563-5b94adab1b01",
   "metadata": {},
   "outputs": [
    {
     "ename": "ZeroDivisionError",
     "evalue": "division by zero",
     "output_type": "error",
     "traceback": [
      "\u001b[0;31m---------------------------------------------------------------------------\u001b[0m",
      "\u001b[0;31mZeroDivisionError\u001b[0m                         Traceback (most recent call last)",
      "Cell \u001b[0;32mIn[5], line 4\u001b[0m\n\u001b[1;32m      1\u001b[0m \u001b[38;5;28;01mdef\u001b[39;00m \u001b[38;5;21mdivide\u001b[39m(a, b):\n\u001b[1;32m      2\u001b[0m     \u001b[38;5;28;01mreturn\u001b[39;00m a \u001b[38;5;241m/\u001b[39m b\n\u001b[0;32m----> 4\u001b[0m result \u001b[38;5;241m=\u001b[39m \u001b[43mdivide\u001b[49m\u001b[43m(\u001b[49m\u001b[38;5;241;43m10\u001b[39;49m\u001b[43m,\u001b[49m\u001b[43m \u001b[49m\u001b[38;5;241;43m0\u001b[39;49m\u001b[43m)\u001b[49m\n\u001b[1;32m      5\u001b[0m \u001b[38;5;28mprint\u001b[39m(result)\n",
      "Cell \u001b[0;32mIn[5], line 2\u001b[0m, in \u001b[0;36mdivide\u001b[0;34m(a, b)\u001b[0m\n\u001b[1;32m      1\u001b[0m \u001b[38;5;28;01mdef\u001b[39;00m \u001b[38;5;21mdivide\u001b[39m(a, b):\n\u001b[0;32m----> 2\u001b[0m     \u001b[38;5;28;01mreturn\u001b[39;00m \u001b[43ma\u001b[49m\u001b[43m \u001b[49m\u001b[38;5;241;43m/\u001b[39;49m\u001b[43m \u001b[49m\u001b[43mb\u001b[49m\n",
      "\u001b[0;31mZeroDivisionError\u001b[0m: division by zero"
     ]
    }
   ],
   "source": [
    "def divide(a, b):\n",
    "    return a / b\n",
    "\n",
    "result = divide(10, 0)\n",
    "print(result)"
   ]
  },
  {
   "cell_type": "markdown",
   "id": "17b501bd-1f72-4594-a2f4-88bfea517d9e",
   "metadata": {},
   "source": [
    "Q. 3 Which python statements are used to catch and handle exceptions? Explain."
   ]
  },
  {
   "cell_type": "markdown",
   "id": "043bbffd-96e5-4ca5-8a79-32083b4c1909",
   "metadata": {},
   "source": [
    "In Python, the try and except statements are used to catch and handle exceptions. The try block is used to enclose the code that might raise an exception, while the except block is used to define the handling of specific exceptions that may occur within the try block."
   ]
  },
  {
   "cell_type": "code",
   "execution_count": 11,
   "id": "5cc94a23-0f4c-4758-b159-bc98177b29b3",
   "metadata": {},
   "outputs": [],
   "source": [
    "def divide(a, b):\n",
    "    try:\n",
    "        result = a / b\n",
    "        print(\"Result:\", result)\n",
    "    except ZeroDivisionError:\n",
    "        print(\"Error: Division by zero!\")"
   ]
  },
  {
   "cell_type": "code",
   "execution_count": 12,
   "id": "baf3b245-5c0b-43f1-aff4-384ad9708be4",
   "metadata": {},
   "outputs": [
    {
     "name": "stdout",
     "output_type": "stream",
     "text": [
      "Result: 5.0\n"
     ]
    }
   ],
   "source": [
    "divide(10,2)"
   ]
  },
  {
   "cell_type": "code",
   "execution_count": 13,
   "id": "2815e553-23e1-4e8d-99e8-790194949942",
   "metadata": {},
   "outputs": [
    {
     "name": "stdout",
     "output_type": "stream",
     "text": [
      "Error: Division by zero!\n"
     ]
    }
   ],
   "source": [
    "divide(10,0)"
   ]
  },
  {
   "cell_type": "markdown",
   "id": "5448e3ec-ffc5-43a2-9713-81784e6c34a3",
   "metadata": {},
   "source": [
    "Q. 4 Explain : Try and Else, Finally, Else."
   ]
  },
  {
   "cell_type": "raw",
   "id": "db3167b3-10f3-4ece-bc7f-33fe7b2bf00c",
   "metadata": {},
   "source": [
    "Try & Else : In Python, along with the try and except statements, you can also use the else clause in exception handling. The else clause is optional and can be added after one or more except clauses in a try-except block. It allows you to specify a block of code that should be executed if no exceptions are raised within the try block."
   ]
  },
  {
   "cell_type": "markdown",
   "id": "c090a91f-fbb2-4ba6-9b34-adc8aea38d2d",
   "metadata": {},
   "source": [
    "Finally : The finally block is used to define a section of code that will always be executed, regardless of whether an exception was raised or not. It is placed after the try and except blocks in a try-except-finally statement."
   ]
  },
  {
   "cell_type": "markdown",
   "id": "428ec9b3-e86b-4a82-924a-1cfc331433ab",
   "metadata": {},
   "source": [
    "Raise :\n",
    "The raise statement is used to explicitly raise an exception in Python. It allows you to manually trigger exceptions when certain conditions are met or when you want to handle exceptional cases in a customized way."
   ]
  },
  {
   "cell_type": "markdown",
   "id": "d1a19c96-90d1-4ff1-92d2-59be0024e565",
   "metadata": {},
   "source": [
    "Q. 5 What are custom exceptions in python? Why do we need custom exceptions? Explain with an example."
   ]
  },
  {
   "cell_type": "markdown",
   "id": "5d6dc0b9-0b20-4ec6-b19d-522bf04f06ab",
   "metadata": {},
   "source": [
    "In Python, custom exceptions are user-defined exceptions that extend the built-in Exception class or its subclasses. They allow you to create your own exception types that are specific to your application or domain. Custom exceptions provide a way to handle exceptional situations that are not adequately covered by the existing built-in exception types."
   ]
  },
  {
   "cell_type": "markdown",
   "id": "9f275120-40b5-46a4-8612-25b684d82402",
   "metadata": {},
   "source": [
    "Q.6 Create a custom exception class. use this class to handle an exception ?"
   ]
  },
  {
   "cell_type": "code",
   "execution_count": 18,
   "id": "4bc96bcc-a140-4925-a13c-1fb0d0c12d11",
   "metadata": {},
   "outputs": [
    {
     "name": "stdout",
     "output_type": "stream",
     "text": [
      "Invalid input: -12\n"
     ]
    }
   ],
   "source": [
    "class InvalidInputError(Exception):\n",
    "    \"\"\"Exception raised for invalid input.\"\"\"\n",
    "\n",
    "    def __init__(self, input_value):\n",
    "        self.input_value = input_value\n",
    "        super().__init__(f\"Invalid input: {input_value}\")\n",
    "\n",
    "\n",
    "def calculate_square_root(num):\n",
    "    if num < 0:\n",
    "        raise InvalidInputError(num)\n",
    "    # Perform square root calculation\n",
    "\n",
    "\n",
    "try:\n",
    "    number = -12\n",
    "    calculate_square_root(number)\n",
    "except InvalidInputError as e:\n",
    "    print(e)\n",
    "    # Handle the exception appropriately\n"
   ]
  }
 ],
 "metadata": {
  "kernelspec": {
   "display_name": "Python 3 (ipykernel)",
   "language": "python",
   "name": "python3"
  },
  "language_info": {
   "codemirror_mode": {
    "name": "ipython",
    "version": 3
   },
   "file_extension": ".py",
   "mimetype": "text/x-python",
   "name": "python",
   "nbconvert_exporter": "python",
   "pygments_lexer": "ipython3",
   "version": "3.10.8"
  }
 },
 "nbformat": 4,
 "nbformat_minor": 5
}
