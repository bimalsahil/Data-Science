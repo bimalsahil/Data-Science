{
 "cells": [
  {
   "cell_type": "markdown",
   "id": "ccd392dd-f847-4712-8b69-f0a8edbe2a53",
   "metadata": {},
   "source": [
    "Q1, Create a vehicle class with an init method having instance variables as name_of_vehicle, max_speed\n",
    "and average_of_vehicle."
   ]
  },
  {
   "cell_type": "code",
   "execution_count": 1,
   "id": "cffb7628-1829-462f-89bd-768c7c04368d",
   "metadata": {},
   "outputs": [],
   "source": [
    "class Vehicle:\n",
    "    def __init__(self, name_of_vehicle, max_speed, average_of_vehicle):\n",
    "        self.name_of_vehicle = name_of_vehicle\n",
    "        self.max_speed = max_speed\n",
    "        self.average_of_vehicle = average_of_vehicle"
   ]
  },
  {
   "cell_type": "markdown",
   "id": "c195da10-65cc-4ba9-adbc-e23abcd478f7",
   "metadata": {},
   "source": [
    "Q2. Create a child class car from the vehicle class created in Que 1, which will inherit the vehicle class.\n",
    "Create a method named seating_capacity which takes capacity as an argument and returns the name of\n",
    "the vehicle and its seating capacity."
   ]
  },
  {
   "cell_type": "code",
   "execution_count": 4,
   "id": "bdae50ab-f222-496b-8c8f-fa671bae2647",
   "metadata": {},
   "outputs": [
    {
     "name": "stdout",
     "output_type": "stream",
     "text": [
      "The Car has a seating capacity of 5.\n"
     ]
    }
   ],
   "source": [
    "class Car(Vehicle):\n",
    "    def seating_capacity(self, capacity):\n",
    "        return f\"The {self.name_of_vehicle} has a seating capacity of {capacity}.\"\n",
    "\n",
    "# Creating an instance of the Car class\n",
    "car = Car(\"Car\", 200, 40)\n",
    "\n",
    "# Calling the seating_capacity method\n",
    "capacity = 5\n",
    "result = car.seating_capacity(capacity)\n",
    "\n",
    "print(result)  # Output: The Car has a seating capacity of 5.\n"
   ]
  },
  {
   "cell_type": "markdown",
   "id": "45daab83-6113-4f3a-bff4-1633f14b0591",
   "metadata": {},
   "source": [
    "Q3. What is multiple inheritance? Write a python code to demonstrate multiple inheritance."
   ]
  },
  {
   "cell_type": "markdown",
   "id": "d4eda12d-0f16-41d3-9024-d1eb521e3eb5",
   "metadata": {},
   "source": [
    "Multiple inheritance is a feature in object-oriented programming where a class can inherit characteristics and behaviors from more than one parent class. This allows a derived class to inherit attributes and methods from multiple base classes."
   ]
  },
  {
   "cell_type": "code",
   "execution_count": 13,
   "id": "0e911678-4fff-458d-8fb0-32543f9d563e",
   "metadata": {},
   "outputs": [],
   "source": [
    "class Vehicle:\n",
    "    def __init__(self, name):\n",
    "        self.name = name\n",
    "\n",
    "    def drive(self):\n",
    "        print(f\"{self.name} is being driven.\")\n",
    "\n",
    "class Convertible:\n",
    "    def open_roof(self):\n",
    "        print(\"Roof is now open.\")\n",
    "\n",
    "    def close_roof(self):\n",
    "        print(\"Roof is now closed.\")\n",
    "\n",
    "class SportsCar(Vehicle, Convertible):\n",
    "    def __init__(self, name):\n",
    "        super().__init__(name)"
   ]
  },
  {
   "cell_type": "code",
   "execution_count": 14,
   "id": "0d9d95e5-32fe-4ab7-9708-82a3b387a995",
   "metadata": {},
   "outputs": [
    {
     "name": "stdout",
     "output_type": "stream",
     "text": [
      "Sports Car is being driven.\n"
     ]
    }
   ],
   "source": [
    "car.drive()"
   ]
  },
  {
   "cell_type": "code",
   "execution_count": 15,
   "id": "eceea91e-1eef-485f-ba3c-49e676f1e68a",
   "metadata": {},
   "outputs": [
    {
     "name": "stdout",
     "output_type": "stream",
     "text": [
      "Roof is now open.\n"
     ]
    }
   ],
   "source": [
    "car.open_roof()"
   ]
  },
  {
   "cell_type": "code",
   "execution_count": 16,
   "id": "d7a12714-b159-4b3e-b327-1ea70ab5da5b",
   "metadata": {},
   "outputs": [
    {
     "name": "stdout",
     "output_type": "stream",
     "text": [
      "Roof is now closed.\n"
     ]
    }
   ],
   "source": [
    "car.close_roof()"
   ]
  },
  {
   "cell_type": "markdown",
   "id": "dd61df0d-63bb-4b5f-a23d-ae502eb99c71",
   "metadata": {},
   "source": [
    "Q4. What are getter and setter in python? Create a class and create a getter and a setter method in this\n",
    "class."
   ]
  },
  {
   "cell_type": "markdown",
   "id": "8b959ce1-b915-4d62-b1de-f902b222a86e",
   "metadata": {},
   "source": [
    "In Python, getter and setter methods are used to provide controlled access to class attributes or properties. They allow you to retrieve the value of an attribute (getter) or modify its value (setter) through defined methods, providing an abstraction layer between the attribute and the external code."
   ]
  },
  {
   "cell_type": "code",
   "execution_count": 56,
   "id": "a2862db0-ca8e-4f67-8cea-a5ab75591629",
   "metadata": {},
   "outputs": [
    {
     "name": "stdout",
     "output_type": "stream",
     "text": [
      "Sahil\n",
      "Bimal\n"
     ]
    }
   ],
   "source": [
    "class Person:\n",
    "    def __init__(self, name):\n",
    "        self._name = name\n",
    "\n",
    "    def get_name(self):\n",
    "        return self._name\n",
    "\n",
    "    def set_name(self, new_name):\n",
    "        self._name = new_name\n",
    "name = person.get_name()\n",
    "print(name)\n",
    "person.set_name('Bimal')\n",
    "name = person.get_name()\n",
    "print(name)"
   ]
  },
  {
   "cell_type": "markdown",
   "id": "c5c87f38-23d3-4415-a23b-83697abfaaf6",
   "metadata": {},
   "source": [
    "Q5.What is method overriding in python? Write a python code to demonstrate method overriding."
   ]
  },
  {
   "cell_type": "markdown",
   "id": "b2385d66-4350-4ed4-9668-f1f1a81e763e",
   "metadata": {},
   "source": [
    "Method overriding in Python is a feature that allows a subclass to provide a different implementation for a method that is already defined in its parent class. The overridden method in the subclass has the same name, parameters, and return type as the method in the parent class."
   ]
  },
  {
   "cell_type": "code",
   "execution_count": 73,
   "id": "dbe8246a-e0ca-4062-9c94-e4fce037fa2f",
   "metadata": {},
   "outputs": [],
   "source": [
    "class Animal:\n",
    "    def speak(self):\n",
    "        print(\"The animal makes a sound.\")\n",
    "\n",
    "class Dog(Animal):\n",
    "    def speak(self):\n",
    "        print(\"The dog barks.\")\n",
    "\n",
    "class Cat(Animal):\n",
    "    def speak(self):\n",
    "        print(\"The cat meows.\")\n",
    "animal = Animal()\n",
    "dog = Dog()\n",
    "cat = Cat()"
   ]
  },
  {
   "cell_type": "code",
   "execution_count": 74,
   "id": "0afdc5f9-804d-4e57-a8a2-82fd7eed5748",
   "metadata": {},
   "outputs": [
    {
     "name": "stdout",
     "output_type": "stream",
     "text": [
      "The animal makes a sound.\n",
      "The dog barks.\n",
      "The cat meows.\n"
     ]
    }
   ],
   "source": [
    "animal.speak()\n",
    "dog.speak()\n",
    "cat.speak()"
   ]
  },
  {
   "cell_type": "code",
   "execution_count": null,
   "id": "475b7b2a-b74d-4a18-b773-1d9c4d7c1924",
   "metadata": {},
   "outputs": [],
   "source": []
  },
  {
   "cell_type": "code",
   "execution_count": null,
   "id": "7abb7bc6-75ae-40eb-916c-7a1208facaa5",
   "metadata": {},
   "outputs": [],
   "source": []
  }
 ],
 "metadata": {
  "kernelspec": {
   "display_name": "Python 3 (ipykernel)",
   "language": "python",
   "name": "python3"
  },
  "language_info": {
   "codemirror_mode": {
    "name": "ipython",
    "version": 3
   },
   "file_extension": ".py",
   "mimetype": "text/x-python",
   "name": "python",
   "nbconvert_exporter": "python",
   "pygments_lexer": "ipython3",
   "version": "3.10.8"
  }
 },
 "nbformat": 4,
 "nbformat_minor": 5
}
