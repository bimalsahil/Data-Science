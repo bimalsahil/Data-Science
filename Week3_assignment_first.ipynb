{
 "cells": [
  {
   "cell_type": "markdown",
   "id": "fb091b02-c944-44d0-b69b-b67d3837864f",
   "metadata": {},
   "source": [
    "Q1. Which keyword is used to create a function? Create a function to return a list of odd numbers in the range of 1 to 25."
   ]
  },
  {
   "cell_type": "markdown",
   "id": "abcc3bc6-9b8b-492a-ac9c-ae7ddcf390b6",
   "metadata": {},
   "source": [
    "Answer : The keyword which is used to create a function is called \"def\"."
   ]
  },
  {
   "cell_type": "code",
   "execution_count": 18,
   "id": "120237cf-a3ce-4c6a-9346-ba4eb8b43037",
   "metadata": {},
   "outputs": [],
   "source": [
    "def odd_numbers():\n",
    "    od_num = []\n",
    "    for num in range(1,26):\n",
    "        if num % 2 != 0:\n",
    "            od_num.append(num)\n",
    "    return od_num"
   ]
  },
  {
   "cell_type": "code",
   "execution_count": 19,
   "id": "93959a00-eb49-4be5-9e8a-e91c646ae4bc",
   "metadata": {},
   "outputs": [
    {
     "name": "stdout",
     "output_type": "stream",
     "text": [
      "[1, 3, 5, 7, 9, 11, 13, 15, 17, 19, 21, 23, 25]\n"
     ]
    }
   ],
   "source": [
    "result = odd_numbers()\n",
    "print(result)"
   ]
  },
  {
   "cell_type": "code",
   "execution_count": 21,
   "id": "0811f03a-c6e2-4249-84cb-0860fc9fc339",
   "metadata": {},
   "outputs": [
    {
     "data": {
      "text/plain": [
       "[1, 3, 5, 7, 9, 11, 13, 15, 17, 19, 21, 23, 25]"
      ]
     },
     "execution_count": 21,
     "metadata": {},
     "output_type": "execute_result"
    }
   ],
   "source": [
    "odd_numbers()"
   ]
  },
  {
   "cell_type": "markdown",
   "id": "414da433-7231-4548-b190-da6fc8bd0d91",
   "metadata": {},
   "source": [
    "Q2. Why *args and **kwargs is used in some functions? Create a function each for *args and **kwargs to demonstrate their use."
   ]
  },
  {
   "cell_type": "markdown",
   "id": "3a723b0d-5e8a-4862-8d96-c050a4a81f28",
   "metadata": {},
   "source": [
    "Answer : *args means that we can pass 'n' number of arguements inside a function for getting a linear value & similarly, **kwargs means that we can pass 'n' number of arguements inside a function but only in the form of key & value pair in a dictionary."
   ]
  },
  {
   "cell_type": "code",
   "execution_count": 26,
   "id": "716dd467-4098-4825-8abd-cc100e453e18",
   "metadata": {},
   "outputs": [],
   "source": [
    "def test1(*args):\n",
    "    return args"
   ]
  },
  {
   "cell_type": "code",
   "execution_count": 28,
   "id": "d980a806-5b2e-4e61-9f7b-936c89b832f8",
   "metadata": {},
   "outputs": [
    {
     "data": {
      "text/plain": [
       "(1, 2.4, 4, 5, 'sahil bimal', [2, 3, 4, 5])"
      ]
     },
     "execution_count": 28,
     "metadata": {},
     "output_type": "execute_result"
    }
   ],
   "source": [
    "test1(1,2.4,4,5,\"sahil bimal\",[2,3,4,5])"
   ]
  },
  {
   "cell_type": "code",
   "execution_count": 30,
   "id": "4ddcc396-cd3e-49fd-a56d-b885e49b008d",
   "metadata": {},
   "outputs": [],
   "source": [
    "def test2(**kwargs):\n",
    "    return kwargs"
   ]
  },
  {
   "cell_type": "code",
   "execution_count": 31,
   "id": "e57ce140-a208-496d-bb84-3a3602fe0684",
   "metadata": {},
   "outputs": [
    {
     "data": {
      "text/plain": [
       "{'a': [1, 2, 3, 4], 'b': 'sahil bimal', 'c': 2.3}"
      ]
     },
     "execution_count": 31,
     "metadata": {},
     "output_type": "execute_result"
    }
   ],
   "source": [
    "test2(a = [1,2,3,4], b = \"sahil bimal\", c = 2.3)"
   ]
  },
  {
   "cell_type": "markdown",
   "id": "f81c1595-0751-4c7f-ab91-f343d5da7b9f",
   "metadata": {},
   "source": [
    "Q3. What is an iterator in python? Name the method used to initialise the iterator object and the method\n",
    "used for iteration. Use these methods to print the first five elements of the given list [2, 4, 6, 8, 10, 12, 14,\n",
    "16, 18, 20]."
   ]
  },
  {
   "cell_type": "markdown",
   "id": "3cd9a30d-61a2-44bd-b213-38d14added72",
   "metadata": {},
   "source": [
    "Answer : Those types of data or object though which we can pass by typing the next function and pull out the data. It is a special pointer that keeps track of where we are in the collection and allows us to get the next item whenever it is required.\n",
    "\n",
    "In Python, the method used to initialize an iterator object is iter(), and the method used for iteration (to retrieve the next item) is next()."
   ]
  },
  {
   "cell_type": "code",
   "execution_count": 58,
   "id": "16400d9b-18ff-40d6-8def-bd013b3a9e7c",
   "metadata": {},
   "outputs": [],
   "source": [
    "my_list = [2, 4, 6, 8, 10, 12, 14, 16, 18, 20]"
   ]
  },
  {
   "cell_type": "code",
   "execution_count": 59,
   "id": "12cc8304-f644-4f2e-83ae-d77b527a140f",
   "metadata": {},
   "outputs": [
    {
     "data": {
      "text/plain": [
       "[2, 4, 6, 8, 10, 12, 14, 16, 18, 20]"
      ]
     },
     "execution_count": 59,
     "metadata": {},
     "output_type": "execute_result"
    }
   ],
   "source": [
    "my_list"
   ]
  },
  {
   "cell_type": "code",
   "execution_count": 69,
   "id": "ceaf852f-6f3a-4a56-8a86-122cfa58499f",
   "metadata": {},
   "outputs": [
    {
     "data": {
      "text/plain": [
       "list"
      ]
     },
     "execution_count": 69,
     "metadata": {},
     "output_type": "execute_result"
    }
   ],
   "source": [
    "type(my_list)"
   ]
  },
  {
   "cell_type": "code",
   "execution_count": 76,
   "id": "0ee2950c-0cec-4638-b02b-06a6aa432be4",
   "metadata": {},
   "outputs": [],
   "source": [
    "p = iter(my_list)"
   ]
  },
  {
   "cell_type": "code",
   "execution_count": null,
   "id": "1be1ea92-c439-41b1-85d1-041ef3c222dd",
   "metadata": {},
   "outputs": [
    {
     "data": {
      "text/plain": [
       "<list_iterator at 0x7f0924987430>"
      ]
     },
     "execution_count": 92,
     "metadata": {},
     "output_type": "execute_result"
    }
   ],
   "source": []
  },
  {
   "cell_type": "code",
   "execution_count": 77,
   "id": "b690f34e-be2a-4daa-8e6b-80552c3dd107",
   "metadata": {},
   "outputs": [
    {
     "data": {
      "text/plain": [
       "list_iterator"
      ]
     },
     "execution_count": 77,
     "metadata": {},
     "output_type": "execute_result"
    }
   ],
   "source": [
    "type(p)"
   ]
  },
  {
   "cell_type": "code",
   "execution_count": 78,
   "id": "dd2287ce-4ed2-4143-b3be-6f9d9610a455",
   "metadata": {},
   "outputs": [
    {
     "data": {
      "text/plain": [
       "2"
      ]
     },
     "execution_count": 78,
     "metadata": {},
     "output_type": "execute_result"
    }
   ],
   "source": [
    "next(p)"
   ]
  },
  {
   "cell_type": "code",
   "execution_count": 79,
   "id": "54a2e170-3b44-4f69-9483-81d761caa324",
   "metadata": {},
   "outputs": [
    {
     "data": {
      "text/plain": [
       "4"
      ]
     },
     "execution_count": 79,
     "metadata": {},
     "output_type": "execute_result"
    }
   ],
   "source": [
    "next(p)"
   ]
  },
  {
   "cell_type": "code",
   "execution_count": 80,
   "id": "e98c0080-1dc6-4569-9c56-c29333db4174",
   "metadata": {},
   "outputs": [
    {
     "data": {
      "text/plain": [
       "6"
      ]
     },
     "execution_count": 80,
     "metadata": {},
     "output_type": "execute_result"
    }
   ],
   "source": [
    "next(p)"
   ]
  },
  {
   "cell_type": "code",
   "execution_count": 81,
   "id": "213cd400-0db9-4ed8-badb-446c8790f52a",
   "metadata": {},
   "outputs": [
    {
     "data": {
      "text/plain": [
       "8"
      ]
     },
     "execution_count": 81,
     "metadata": {},
     "output_type": "execute_result"
    }
   ],
   "source": [
    "next(p)"
   ]
  },
  {
   "cell_type": "code",
   "execution_count": 82,
   "id": "fdff8b13-7ae2-4a92-8db5-ef508b8f2de9",
   "metadata": {},
   "outputs": [
    {
     "data": {
      "text/plain": [
       "10"
      ]
     },
     "execution_count": 82,
     "metadata": {},
     "output_type": "execute_result"
    }
   ],
   "source": [
    "next(p)"
   ]
  },
  {
   "cell_type": "markdown",
   "id": "4b7953e6-c017-4b28-a390-9df52826935e",
   "metadata": {},
   "source": [
    "Q4. What is a generator function in python? Why yield keyword is used? Give an example of a generator\n",
    "function."
   ]
  },
  {
   "cell_type": "markdown",
   "id": "b6a17d7c-2d35-45b4-abbd-aa1190e6f8de",
   "metadata": {},
   "source": [
    "To reduce the memory consumption for processing larger list values, Generator function is a used where the outcome is given in a continous manner one after the other as soon as it keeps on generating the outcomes without holding into it's main memory."
   ]
  },
  {
   "cell_type": "markdown",
   "id": "c2fa1dd4-c53d-4058-a4af-7437f71ade00",
   "metadata": {},
   "source": [
    "Yield is a special keyword which helps in generating generator functions."
   ]
  },
  {
   "cell_type": "code",
   "execution_count": 87,
   "id": "71686a0d-a578-4ebc-b5c4-57f77aa3a651",
   "metadata": {},
   "outputs": [],
   "source": [
    "def test_fib(n):\n",
    "    a,b = 0,1\n",
    "    for i in range(n):\n",
    "        yield a\n",
    "        a,b = b, b+a"
   ]
  },
  {
   "cell_type": "code",
   "execution_count": 88,
   "id": "c29e5224-4e73-46fa-9730-d68084981fd5",
   "metadata": {},
   "outputs": [
    {
     "data": {
      "text/plain": [
       "<generator object test_fib at 0x7f0924d263b0>"
      ]
     },
     "execution_count": 88,
     "metadata": {},
     "output_type": "execute_result"
    }
   ],
   "source": [
    "test_fib(10)"
   ]
  },
  {
   "cell_type": "code",
   "execution_count": 89,
   "id": "7b7e5f25-b47b-41d5-8893-704edd193047",
   "metadata": {},
   "outputs": [
    {
     "name": "stdout",
     "output_type": "stream",
     "text": [
      "0\n",
      "1\n",
      "1\n",
      "2\n",
      "3\n",
      "5\n",
      "8\n",
      "13\n",
      "21\n",
      "34\n"
     ]
    }
   ],
   "source": [
    "for i in test_fib(10):\n",
    "    print(i)"
   ]
  },
  {
   "cell_type": "markdown",
   "id": "31ae8a12-7fcb-4fca-b118-30445a7a9202",
   "metadata": {},
   "source": [
    "Q5. Create a generator function for prime numbers less than 1000. Use the next() method to print the first 20 prime numbers."
   ]
  },
  {
   "cell_type": "code",
   "execution_count": null,
   "id": "cc51f28c-bcca-4ac6-8415-1b2395e5090a",
   "metadata": {},
   "outputs": [],
   "source": []
  },
  {
   "cell_type": "code",
   "execution_count": null,
   "id": "46c71a0c-c54a-4f2e-ae00-2b53d74590b0",
   "metadata": {},
   "outputs": [],
   "source": []
  },
  {
   "cell_type": "markdown",
   "id": "0237fe13-9c04-4a4a-8d2b-83c74dbdd036",
   "metadata": {},
   "source": [
    "Q6. Write a python program to print the first 10 Fibonacci numbers using a while loop."
   ]
  },
  {
   "cell_type": "code",
   "execution_count": 115,
   "id": "be0a5943-b350-46e3-b533-3e52cd890c0f",
   "metadata": {},
   "outputs": [],
   "source": [
    "def test_fib2(n):\n",
    "    a,b = 1,2\n",
    "    while True:\n",
    "        yield a\n",
    "        a,b = b, b+a"
   ]
  },
  {
   "cell_type": "code",
   "execution_count": 116,
   "id": "67d3c9a3-e57f-4fe4-824e-61cb99fa4431",
   "metadata": {},
   "outputs": [
    {
     "data": {
      "text/plain": [
       "<generator object test_fib2 at 0x7f0924d27680>"
      ]
     },
     "execution_count": 116,
     "metadata": {},
     "output_type": "execute_result"
    }
   ],
   "source": [
    "test_fib2(10)"
   ]
  },
  {
   "cell_type": "code",
   "execution_count": 117,
   "id": "6f6d8f5e-fdbd-484d-af11-6fa558a620d0",
   "metadata": {},
   "outputs": [],
   "source": [
    "fib = test_fib2(10)"
   ]
  },
  {
   "cell_type": "code",
   "execution_count": 118,
   "id": "d3e27d20-9816-4a01-a5a9-9788d2ca6dc2",
   "metadata": {},
   "outputs": [
    {
     "name": "stdout",
     "output_type": "stream",
     "text": [
      "1\n",
      "2\n",
      "3\n",
      "5\n",
      "8\n",
      "13\n",
      "21\n",
      "34\n",
      "55\n",
      "89\n"
     ]
    }
   ],
   "source": [
    "for i in range(10):\n",
    "    print(next(fib))"
   ]
  },
  {
   "cell_type": "markdown",
   "id": "292e583f-ac45-4f6f-9b97-ee2b74a252cb",
   "metadata": {},
   "source": [
    "Q7. Write a List Comprehension to iterate through the given string: ‘pwskills’.\n",
    "\n",
    "Expected output: ['p', 'w', 's', 'k', 'i', 'l', 'l', 's']"
   ]
  },
  {
   "cell_type": "code",
   "execution_count": 122,
   "id": "2cb0c6fb-c8fe-47c8-ade2-8375bd98bb91",
   "metadata": {},
   "outputs": [],
   "source": [
    "mystring = 'pwskills'"
   ]
  },
  {
   "cell_type": "code",
   "execution_count": 125,
   "id": "b6bc3c28-754e-4bce-9336-50f6a849b513",
   "metadata": {},
   "outputs": [
    {
     "data": {
      "text/plain": [
       "'pwskills'"
      ]
     },
     "execution_count": 125,
     "metadata": {},
     "output_type": "execute_result"
    }
   ],
   "source": [
    "mystring"
   ]
  },
  {
   "cell_type": "code",
   "execution_count": 132,
   "id": "7d549f04-ddb7-4c95-9c97-99c20c728946",
   "metadata": {},
   "outputs": [],
   "source": [
    "p = iter(mystring)"
   ]
  },
  {
   "cell_type": "code",
   "execution_count": 133,
   "id": "7f662115-a111-4fbe-959e-ec998b0a8178",
   "metadata": {},
   "outputs": [
    {
     "data": {
      "text/plain": [
       "str_iterator"
      ]
     },
     "execution_count": 133,
     "metadata": {},
     "output_type": "execute_result"
    }
   ],
   "source": [
    "type(p)"
   ]
  },
  {
   "cell_type": "code",
   "execution_count": 134,
   "id": "7ae522eb-48ca-4b24-acc7-fa9e3ded65e0",
   "metadata": {},
   "outputs": [
    {
     "data": {
      "text/plain": [
       "'p'"
      ]
     },
     "execution_count": 134,
     "metadata": {},
     "output_type": "execute_result"
    }
   ],
   "source": [
    "next(p)"
   ]
  },
  {
   "cell_type": "code",
   "execution_count": 135,
   "id": "ec648384-66fe-46a7-a377-be230b391555",
   "metadata": {},
   "outputs": [
    {
     "data": {
      "text/plain": [
       "'w'"
      ]
     },
     "execution_count": 135,
     "metadata": {},
     "output_type": "execute_result"
    }
   ],
   "source": [
    "next(p)"
   ]
  },
  {
   "cell_type": "code",
   "execution_count": 136,
   "id": "005987ff-e307-40d7-99c1-2e02f82498de",
   "metadata": {},
   "outputs": [
    {
     "data": {
      "text/plain": [
       "'s'"
      ]
     },
     "execution_count": 136,
     "metadata": {},
     "output_type": "execute_result"
    }
   ],
   "source": [
    "next(p)"
   ]
  },
  {
   "cell_type": "code",
   "execution_count": 137,
   "id": "61b0dfbd-75a9-47b4-a9fe-a186ba63cc9a",
   "metadata": {},
   "outputs": [
    {
     "data": {
      "text/plain": [
       "'k'"
      ]
     },
     "execution_count": 137,
     "metadata": {},
     "output_type": "execute_result"
    }
   ],
   "source": [
    "next(p)"
   ]
  },
  {
   "cell_type": "code",
   "execution_count": 138,
   "id": "fa37bdcc-ef84-47d7-95e0-0b9b1591329e",
   "metadata": {},
   "outputs": [
    {
     "data": {
      "text/plain": [
       "'i'"
      ]
     },
     "execution_count": 138,
     "metadata": {},
     "output_type": "execute_result"
    }
   ],
   "source": [
    "next(p)"
   ]
  },
  {
   "cell_type": "code",
   "execution_count": 139,
   "id": "d5676478-b6f8-4fb6-8f16-9520722edb42",
   "metadata": {},
   "outputs": [
    {
     "data": {
      "text/plain": [
       "'l'"
      ]
     },
     "execution_count": 139,
     "metadata": {},
     "output_type": "execute_result"
    }
   ],
   "source": [
    "next(p)"
   ]
  },
  {
   "cell_type": "code",
   "execution_count": 140,
   "id": "5dc12867-dbaf-4eee-8023-abc884b993bb",
   "metadata": {},
   "outputs": [
    {
     "data": {
      "text/plain": [
       "'l'"
      ]
     },
     "execution_count": 140,
     "metadata": {},
     "output_type": "execute_result"
    }
   ],
   "source": [
    "next(p)"
   ]
  },
  {
   "cell_type": "code",
   "execution_count": 141,
   "id": "3450a14c-35e2-462c-9c97-05688d7b235e",
   "metadata": {},
   "outputs": [
    {
     "data": {
      "text/plain": [
       "'s'"
      ]
     },
     "execution_count": 141,
     "metadata": {},
     "output_type": "execute_result"
    }
   ],
   "source": [
    "next(p)"
   ]
  },
  {
   "cell_type": "markdown",
   "id": "408219ab-de71-4ef2-ab2c-1c963fa6d0cc",
   "metadata": {},
   "source": [
    "Q8. Write a python program to check whether a given number is Palindrome or not using a while loop."
   ]
  },
  {
   "cell_type": "code",
   "execution_count": 4,
   "id": "be6c9f52-6322-462b-a515-b485ecab07c1",
   "metadata": {},
   "outputs": [],
   "source": [
    "def is_palindrome(n):\n",
    "    original_number = n\n",
    "    reverse_number = 0\n",
    "\n",
    "    while n > 0:\n",
    "        remainder = n % 10\n",
    "        reverse_number = reverse_number * 10 + remainder\n",
    "        n = n // 10\n",
    "\n",
    "    if original_number == reverse_number:\n",
    "        return True\n",
    "    else:\n",
    "        return False"
   ]
  },
  {
   "cell_type": "code",
   "execution_count": 5,
   "id": "deb8b001-d29d-4c1e-91ba-df87d35cf059",
   "metadata": {},
   "outputs": [
    {
     "data": {
      "text/plain": [
       "False"
      ]
     },
     "execution_count": 5,
     "metadata": {},
     "output_type": "execute_result"
    }
   ],
   "source": [
    "is_palindrome(345)"
   ]
  },
  {
   "cell_type": "code",
   "execution_count": 6,
   "id": "921537b8-3710-421b-a031-fa8cf589b3d3",
   "metadata": {},
   "outputs": [
    {
     "data": {
      "text/plain": [
       "True"
      ]
     },
     "execution_count": 6,
     "metadata": {},
     "output_type": "execute_result"
    }
   ],
   "source": [
    "is_palindrome(121)"
   ]
  },
  {
   "cell_type": "markdown",
   "id": "d957793f-67e6-4864-a55f-9ee8ba84de5b",
   "metadata": {},
   "source": [
    "Q9. Write a code to print odd numbers from 1 to 100 using list comprehension."
   ]
  },
  {
   "cell_type": "code",
   "execution_count": 13,
   "id": "f8384885-0cce-4ba0-b842-be20e477fe2f",
   "metadata": {},
   "outputs": [
    {
     "data": {
      "text/plain": [
       "range(0, 101)"
      ]
     },
     "execution_count": 13,
     "metadata": {},
     "output_type": "execute_result"
    }
   ],
   "source": [
    "range(0,101)"
   ]
  },
  {
   "cell_type": "code",
   "execution_count": 36,
   "id": "2ab39d7f-2acc-4b7b-9ff9-8e900cc2a380",
   "metadata": {},
   "outputs": [
    {
     "name": "stdout",
     "output_type": "stream",
     "text": [
      "[1, 3, 5, 7, 9, 11, 13, 15, 17, 19, 21, 23, 25, 27, 29, 31, 33, 35, 37, 39, 41, 43, 45, 47, 49, 51, 53, 55, 57, 59, 61, 63, 65, 67, 69, 71, 73, 75, 77, 79, 81, 83, 85, 87, 89, 91, 93, 95, 97, 99]\n"
     ]
    }
   ],
   "source": [
    "num = [num for num in range(0,101) if num % 2 != 0]\n",
    "print(num)"
   ]
  },
  {
   "cell_type": "code",
   "execution_count": null,
   "id": "69921bd2-4f50-40e3-ade1-e3fa0322d641",
   "metadata": {},
   "outputs": [],
   "source": []
  },
  {
   "cell_type": "code",
   "execution_count": null,
   "id": "9f42cfe0-058d-4ac7-98f7-f87721562f06",
   "metadata": {},
   "outputs": [],
   "source": []
  }
 ],
 "metadata": {
  "kernelspec": {
   "display_name": "Python 3 (ipykernel)",
   "language": "python",
   "name": "python3"
  },
  "language_info": {
   "codemirror_mode": {
    "name": "ipython",
    "version": 3
   },
   "file_extension": ".py",
   "mimetype": "text/x-python",
   "name": "python",
   "nbconvert_exporter": "python",
   "pygments_lexer": "ipython3",
   "version": "3.10.8"
  },
  "toc-showcode": true
 },
 "nbformat": 4,
 "nbformat_minor": 5
}
