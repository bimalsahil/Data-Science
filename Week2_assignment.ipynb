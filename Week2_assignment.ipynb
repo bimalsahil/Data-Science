{
 "cells": [
  {
   "cell_type": "code",
   "execution_count": 1,
   "id": "3188757b-bf7f-446e-b453-8c4dd5d631e6",
   "metadata": {},
   "outputs": [],
   "source": [
    "'''How do you comment code in Python? What are the different types of comments?'''"
   ]
  },
  {
   "cell_type": "code",
   "execution_count": 23,
   "id": "79866abd-428d-4833-b844-03d9685513da",
   "metadata": {},
   "outputs": [],
   "source": [
    "# Ans. We comment code by putting a putting a hash symbol(#) in the beginning and anything written after the symbol is considered \n",
    "# as a comment in python.\n",
    "\n",
    "# Broadly speaking, there are two different types of comments.\n",
    "\n",
    "# 1. Single Line comments:\n",
    "\n",
    "#             By putting (#) symbol in the beginning, we can transform the whole line into comment.\n",
    "\n",
    "# 2. Multi Line Comments :\n",
    "\n",
    "#             For multi line comments, we can enclose the block of text or comment with triple quotes , it is also called docstring."
   ]
  },
  {
   "cell_type": "code",
   "execution_count": 7,
   "id": "ba9e2f84-588a-4d14-8fc6-8f7a463f5be5",
   "metadata": {},
   "outputs": [],
   "source": [
    "'''What are variables in Python? How do you declare and assign values to variables?'''"
   ]
  },
  {
   "cell_type": "code",
   "execution_count": 19,
   "id": "c438209c-e4e1-4bfb-8349-ff63d4c81968",
   "metadata": {},
   "outputs": [],
   "source": [
    "# In python, variables are used to store values which can be used at some later stage during our calculations and manipulations\n",
    "# with data.\n",
    "\n",
    "# We can store data in the form of strings, complex numbers, integers, boolean values, lists, tuples, dictionary and many more."
   ]
  },
  {
   "cell_type": "code",
   "execution_count": 48,
   "id": "e8c394c1-28b1-4c04-8bb7-3735db73dde9",
   "metadata": {},
   "outputs": [],
   "source": [
    "# To declare and assign values in python:\n",
    "my_name   = \"sahil\"\n",
    "my_home   = \"india\"\n",
    "my_number =  91400"
   ]
  },
  {
   "cell_type": "code",
   "execution_count": 49,
   "id": "188ef142-72ca-4c4c-bb52-4390b6e64833",
   "metadata": {},
   "outputs": [
    {
     "data": {
      "text/plain": [
       "'sahil'"
      ]
     },
     "execution_count": 49,
     "metadata": {},
     "output_type": "execute_result"
    }
   ],
   "source": [
    "my_name"
   ]
  },
  {
   "cell_type": "code",
   "execution_count": 50,
   "id": "4de18c0d-7d56-41cd-aecb-36f0453b8bd5",
   "metadata": {},
   "outputs": [
    {
     "data": {
      "text/plain": [
       "'india'"
      ]
     },
     "execution_count": 50,
     "metadata": {},
     "output_type": "execute_result"
    }
   ],
   "source": [
    "my_home"
   ]
  },
  {
   "cell_type": "code",
   "execution_count": 51,
   "id": "00ba177b-a214-4cec-82cd-bce381fee49f",
   "metadata": {},
   "outputs": [
    {
     "data": {
      "text/plain": [
       "91400"
      ]
     },
     "execution_count": 51,
     "metadata": {},
     "output_type": "execute_result"
    }
   ],
   "source": [
    "my_number"
   ]
  },
  {
   "cell_type": "code",
   "execution_count": 52,
   "id": "ea18c712-d69e-4551-98b4-b748f6ae5979",
   "metadata": {},
   "outputs": [
    {
     "data": {
      "text/plain": [
       "'sahilindia'"
      ]
     },
     "execution_count": 52,
     "metadata": {},
     "output_type": "execute_result"
    }
   ],
   "source": [
    "my_name + my_home"
   ]
  },
  {
   "cell_type": "code",
   "execution_count": 53,
   "id": "d28afb09-eda4-4c4a-ba3a-beaf9e115eda",
   "metadata": {},
   "outputs": [],
   "source": [
    "'''How do you convert one data type to another in Python?'''"
   ]
  },
  {
   "cell_type": "code",
   "execution_count": 54,
   "id": "84eec0f1-1143-4937-88aa-a7ffbac2544c",
   "metadata": {},
   "outputs": [],
   "source": [
    "# Answer: Conversion of one data type into other is known as Typecasting. It is a common operation used when we need to perform \n",
    "# different operations involving different data sets or types.\n",
    "# Some common typecasting functions are :int(), str(), float()"
   ]
  },
  {
   "cell_type": "code",
   "execution_count": 55,
   "id": "93400ad1-bcfb-4120-93b0-97c88af71deb",
   "metadata": {},
   "outputs": [],
   "source": [
    "# for changing string data type to integer data type.\n",
    "num = '10'"
   ]
  },
  {
   "cell_type": "code",
   "execution_count": 56,
   "id": "a9d1bd19-7d7e-41a6-9388-f9e91eca1936",
   "metadata": {},
   "outputs": [
    {
     "data": {
      "text/plain": [
       "str"
      ]
     },
     "execution_count": 56,
     "metadata": {},
     "output_type": "execute_result"
    }
   ],
   "source": [
    "type(num)"
   ]
  },
  {
   "cell_type": "code",
   "execution_count": 57,
   "id": "f9143807-4ba5-48e3-b303-6d3a90789175",
   "metadata": {},
   "outputs": [],
   "source": [
    "new_data = int(num)"
   ]
  },
  {
   "cell_type": "code",
   "execution_count": 58,
   "id": "2274d824-4396-4fde-b5c6-49c4d51ba8d2",
   "metadata": {},
   "outputs": [
    {
     "data": {
      "text/plain": [
       "10"
      ]
     },
     "execution_count": 58,
     "metadata": {},
     "output_type": "execute_result"
    }
   ],
   "source": [
    "new_data"
   ]
  },
  {
   "cell_type": "code",
   "execution_count": 60,
   "id": "6d656a6a-b510-4e48-9cab-c3bcf92cca81",
   "metadata": {},
   "outputs": [
    {
     "data": {
      "text/plain": [
       "int"
      ]
     },
     "execution_count": 60,
     "metadata": {},
     "output_type": "execute_result"
    }
   ],
   "source": [
    "type(new_data)"
   ]
  },
  {
   "cell_type": "code",
   "execution_count": 61,
   "id": "3f6f1d7a-7cf9-4fd7-832a-7d483fc75679",
   "metadata": {},
   "outputs": [],
   "source": [
    "''' Q4. How do you write and execute a Python script from the command line? '''"
   ]
  },
  {
   "cell_type": "code",
   "execution_count": 69,
   "id": "fe8dc215-a410-4e83-b619-054a4e4182f1",
   "metadata": {},
   "outputs": [],
   "source": [
    "# First we need to open a text editor and write our Python code and then save the file with a .py extension\n",
    "\n",
    "# Open a command prompt & go to the directory where we have saved our Python script.\n",
    "\n",
    "# Once we're in the correct directory, we can execute the Python script by running the python command followed by the name\n",
    "\n",
    "# of our script file.\n",
    "\n",
    "'''Note : Make sure that Python is installed on your system and properly configured in the environment variables'''"
   ]
  },
  {
   "cell_type": "code",
   "execution_count": null,
   "id": "526ee274-e781-4b27-8ae5-5185e4678e08",
   "metadata": {},
   "outputs": [],
   "source": [
    "'''Q5. Given a list my_list = [1, 2, 3, 4, 5], write the code to slice the list and obtain the sub-list [2, 3]'''"
   ]
  },
  {
   "cell_type": "code",
   "execution_count": 70,
   "id": "e29c2799-9815-4f1b-ad8c-aa5c6098a52b",
   "metadata": {},
   "outputs": [],
   "source": [
    "my_list = [1,2,3,4,5]"
   ]
  },
  {
   "cell_type": "code",
   "execution_count": 71,
   "id": "6dcb11cb-c81e-4b29-920f-14d65403350d",
   "metadata": {},
   "outputs": [
    {
     "data": {
      "text/plain": [
       "[1, 2, 3, 4, 5]"
      ]
     },
     "execution_count": 71,
     "metadata": {},
     "output_type": "execute_result"
    }
   ],
   "source": [
    "my_list"
   ]
  },
  {
   "cell_type": "code",
   "execution_count": 73,
   "id": "f6bebb06-584e-49fe-97c5-d5f43aa41c03",
   "metadata": {},
   "outputs": [],
   "source": [
    "sub_list = my_list[1:3]"
   ]
  },
  {
   "cell_type": "code",
   "execution_count": 74,
   "id": "c4da48d2-b130-448f-aacf-b0a67b88a8da",
   "metadata": {},
   "outputs": [
    {
     "data": {
      "text/plain": [
       "[2, 3]"
      ]
     },
     "execution_count": 74,
     "metadata": {},
     "output_type": "execute_result"
    }
   ],
   "source": [
    "sub_list"
   ]
  },
  {
   "cell_type": "code",
   "execution_count": null,
   "id": "1305571c-e6d0-4a00-95bb-cc54ff88e72d",
   "metadata": {},
   "outputs": [],
   "source": [
    "'''Q6. What is a complex number in mathematics, and how is it represented in Python? '''"
   ]
  },
  {
   "cell_type": "code",
   "execution_count": 76,
   "id": "6663f55d-3313-453a-aa1a-20cd9e362051",
   "metadata": {},
   "outputs": [],
   "source": [
    "# In mathematics, complex number is a number which comprises of a real and an imaginary part, which is represented in the form of \n",
    "# a + bi, where a is the real part, b is the imaginary part and i is the imaginary unit defined as the square root of -1\n",
    "\n",
    "# In python, to represent a complex number we use 'j' to indicate the imaginary part."
   ]
  },
  {
   "cell_type": "code",
   "execution_count": 79,
   "id": "25215ddd-3510-4bc5-8711-7217ea49cea0",
   "metadata": {},
   "outputs": [],
   "source": [
    "num = 5 + 3"
   ]
  },
  {
   "cell_type": "code",
   "execution_count": 80,
   "id": "a30e3ba6-5f4e-4a37-9e9b-9c73520e7d74",
   "metadata": {},
   "outputs": [
    {
     "data": {
      "text/plain": [
       "int"
      ]
     },
     "execution_count": 80,
     "metadata": {},
     "output_type": "execute_result"
    }
   ],
   "source": [
    "type(num)"
   ]
  },
  {
   "cell_type": "code",
   "execution_count": 82,
   "id": "808167c3-6c47-46c2-8bca-674b2af0d8af",
   "metadata": {},
   "outputs": [],
   "source": [
    "new_num = 5 + 3j"
   ]
  },
  {
   "cell_type": "code",
   "execution_count": 83,
   "id": "6c172695-5d2d-415f-a368-f88fc343cbed",
   "metadata": {},
   "outputs": [
    {
     "data": {
      "text/plain": [
       "complex"
      ]
     },
     "execution_count": 83,
     "metadata": {},
     "output_type": "execute_result"
    }
   ],
   "source": [
    "type(new_num)"
   ]
  },
  {
   "cell_type": "code",
   "execution_count": null,
   "id": "757cb52c-f966-4c67-adf5-ea39be7faf2c",
   "metadata": {},
   "outputs": [],
   "source": [
    "'''Q7. What is the correct way to declare a variable named age and assign the value 25 to it? '''"
   ]
  },
  {
   "cell_type": "code",
   "execution_count": 84,
   "id": "9f76e1f4-b6a7-459a-880b-afd3e28e2829",
   "metadata": {},
   "outputs": [],
   "source": [
    "age = 25"
   ]
  },
  {
   "cell_type": "code",
   "execution_count": 85,
   "id": "6673e4c3-199e-47f5-acca-294ee464055e",
   "metadata": {},
   "outputs": [
    {
     "data": {
      "text/plain": [
       "25"
      ]
     },
     "execution_count": 85,
     "metadata": {},
     "output_type": "execute_result"
    }
   ],
   "source": [
    "age"
   ]
  },
  {
   "cell_type": "code",
   "execution_count": 86,
   "id": "ae97a930-2767-4320-9bf5-31a890890da0",
   "metadata": {},
   "outputs": [
    {
     "data": {
      "text/plain": [
       "int"
      ]
     },
     "execution_count": 86,
     "metadata": {},
     "output_type": "execute_result"
    }
   ],
   "source": [
    "type(age)"
   ]
  },
  {
   "cell_type": "code",
   "execution_count": null,
   "id": "6dbe7eba-9f20-47a4-a870-26d9a8fc15e3",
   "metadata": {},
   "outputs": [],
   "source": [
    "'''Q8. Declare a variable named price and assign the value 9.99 to it. What data type does this variable belong to?'''"
   ]
  },
  {
   "cell_type": "code",
   "execution_count": 88,
   "id": "499f8c74-e0d6-473b-9759-1d375c036b25",
   "metadata": {},
   "outputs": [],
   "source": [
    "price = 9.99"
   ]
  },
  {
   "cell_type": "code",
   "execution_count": 89,
   "id": "1c6e45e9-a394-4fc7-bbf8-6c90605cd8d8",
   "metadata": {},
   "outputs": [
    {
     "data": {
      "text/plain": [
       "float"
      ]
     },
     "execution_count": 89,
     "metadata": {},
     "output_type": "execute_result"
    }
   ],
   "source": [
    "type(price)"
   ]
  },
  {
   "cell_type": "code",
   "execution_count": 90,
   "id": "4ae2336f-8906-4375-86ce-7bcc77489193",
   "metadata": {},
   "outputs": [],
   "source": [
    "# This is a float data type."
   ]
  },
  {
   "cell_type": "code",
   "execution_count": null,
   "id": "90324bee-5530-4f2d-9be7-26601a61d113",
   "metadata": {},
   "outputs": [],
   "source": [
    "'''Q9. Create a variable named name and assign your full name to it as a string. How would you print the value of this variable?'''"
   ]
  },
  {
   "cell_type": "code",
   "execution_count": 96,
   "id": "c8325749-c144-4380-8bc3-002fbff8b4f8",
   "metadata": {},
   "outputs": [],
   "source": [
    "name = 'Sahil Bimal'"
   ]
  },
  {
   "cell_type": "code",
   "execution_count": 97,
   "id": "e4e6543c-7967-42f4-9642-95a5114fba93",
   "metadata": {},
   "outputs": [
    {
     "name": "stdout",
     "output_type": "stream",
     "text": [
      "Sahil Bimal\n"
     ]
    }
   ],
   "source": [
    "print(name)"
   ]
  },
  {
   "cell_type": "code",
   "execution_count": null,
   "id": "f0576d01-b5cd-41e4-978e-14d329aad5f8",
   "metadata": {},
   "outputs": [],
   "source": [
    "'''Q10. Given the string \"Hello, World!\", extract the substring \"World\".'''"
   ]
  },
  {
   "cell_type": "code",
   "execution_count": 108,
   "id": "37a2381e-42f0-4ad9-bbf2-2063ff1b68a1",
   "metadata": {},
   "outputs": [],
   "source": [
    "string = \"Hello, World!\""
   ]
  },
  {
   "cell_type": "code",
   "execution_count": 110,
   "id": "245e7ceb-bb4b-4fb9-aee9-ab718b471091",
   "metadata": {},
   "outputs": [
    {
     "data": {
      "text/plain": [
       "'Hello, World!'"
      ]
     },
     "execution_count": 110,
     "metadata": {},
     "output_type": "execute_result"
    }
   ],
   "source": [
    "string"
   ]
  },
  {
   "cell_type": "code",
   "execution_count": 112,
   "id": "07874bae-d957-4716-a1aa-6b8252cf2080",
   "metadata": {},
   "outputs": [],
   "source": [
    "substring = string[6:12]"
   ]
  },
  {
   "cell_type": "code",
   "execution_count": 113,
   "id": "2f003782-bbb1-4e6d-86dd-e2d24da55373",
   "metadata": {},
   "outputs": [
    {
     "data": {
      "text/plain": [
       "' World'"
      ]
     },
     "execution_count": 113,
     "metadata": {},
     "output_type": "execute_result"
    }
   ],
   "source": [
    "substring"
   ]
  },
  {
   "cell_type": "code",
   "execution_count": null,
   "id": "2c6dfa4b-1e0c-45d2-827f-c49ffad5e3e5",
   "metadata": {},
   "outputs": [],
   "source": [
    "'''Q11.Create a variable named \"is_student\" and assign it a boolean value indicating whether you are currently a student or not.'''"
   ]
  },
  {
   "cell_type": "code",
   "execution_count": 114,
   "id": "ef31f764-09ac-454c-a60e-a340e393cfb6",
   "metadata": {},
   "outputs": [],
   "source": [
    "is_student = True"
   ]
  },
  {
   "cell_type": "code",
   "execution_count": 115,
   "id": "ef547464-be80-4b9c-9da3-0ee24d2120c8",
   "metadata": {},
   "outputs": [
    {
     "data": {
      "text/plain": [
       "True"
      ]
     },
     "execution_count": 115,
     "metadata": {},
     "output_type": "execute_result"
    }
   ],
   "source": [
    "is_student"
   ]
  },
  {
   "cell_type": "code",
   "execution_count": 116,
   "id": "c60fec4d-c78d-47a0-8bfe-7f813d47bbdc",
   "metadata": {},
   "outputs": [
    {
     "data": {
      "text/plain": [
       "bool"
      ]
     },
     "execution_count": 116,
     "metadata": {},
     "output_type": "execute_result"
    }
   ],
   "source": [
    "type(is_student)"
   ]
  },
  {
   "cell_type": "code",
   "execution_count": 117,
   "id": "4d1d2c91-fb27-4402-a6d7-31599bf00805",
   "metadata": {},
   "outputs": [],
   "source": [
    "# End of Week 2 Assignment #"
   ]
  },
  {
   "cell_type": "code",
   "execution_count": null,
   "id": "700ee234-223b-4c5e-85a6-7af675b4648a",
   "metadata": {},
   "outputs": [],
   "source": []
  }
 ],
 "metadata": {
  "kernelspec": {
   "display_name": "Python 3 (ipykernel)",
   "language": "python",
   "name": "python3"
  },
  "language_info": {
   "codemirror_mode": {
    "name": "ipython",
    "version": 3
   },
   "file_extension": ".py",
   "mimetype": "text/x-python",
   "name": "python",
   "nbconvert_exporter": "python",
   "pygments_lexer": "ipython3",
   "version": "3.10.8"
  }
 },
 "nbformat": 4,
 "nbformat_minor": 5
}
